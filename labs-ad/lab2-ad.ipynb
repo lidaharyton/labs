{
 "cells": [
  {
   "cell_type": "code",
   "execution_count": 53,
   "id": "ae1c9be0-fd0c-43ea-aefb-a00917200ca3",
   "metadata": {
    "scrolled": true
   },
   "outputs": [],
   "source": [
    "from functools import reduce\n",
    "from operator import mul\n",
    "from multiprocessing import Pool, cpu_count\n",
    "from pathos.multiprocessing import ProcessingPool as Pool\n",
    "import pandas as pd\n",
    "import numpy as np\n",
    "import time"
   ]
  },
  {
   "cell_type": "code",
   "execution_count": 54,
   "id": "cdd1ae41-7c70-4a01-9ff7-f622be7328cf",
   "metadata": {
    "scrolled": true
   },
   "outputs": [
    {
     "data": {
      "text/plain": [
       "8"
      ]
     },
     "execution_count": 54,
     "metadata": {},
     "output_type": "execute_result"
    }
   ],
   "source": [
    "import os\n",
    "os.cpu_count()"
   ]
  },
  {
   "cell_type": "markdown",
   "id": "1c4c93f0-3517-44d4-bcda-e759c7cb8181",
   "metadata": {},
   "source": [
    "1. Write a version of curried function c_5 using lambda syntax/\n",
    "Напишіть версію функції c_5, використовуючи лямбда-синтаксис."
   ]
  },
  {
   "cell_type": "code",
   "execution_count": 55,
   "id": "ccd80db6-b5d2-4dda-af53-b11d32927ed4",
   "metadata": {},
   "outputs": [
    {
     "name": "stdout",
     "output_type": "stream",
     "text": [
      "15\n"
     ]
    }
   ],
   "source": [
    "c_5 = lambda a: lambda b: lambda c: lambda d: lambda e: a + b + c + d + e\n",
    "\n",
    "print(c_5(1)(2)(3)(4)(5))"
   ]
  },
  {
   "cell_type": "markdown",
   "id": "4b04c02f-2eb2-4da8-9658-aceb0d3fe7e5",
   "metadata": {},
   "source": [
    "2. Write a program calculating a factorial using parallelisation and map-reduce/\n",
    "Напишіть програму, яка обчислює факторіал, використовуючи паралелізацію та map-reduce."
   ]
  },
  {
   "cell_type": "code",
   "execution_count": 56,
   "id": "b4766637-2236-4fce-b6f1-d0dadd68d29f",
   "metadata": {},
   "outputs": [
    {
     "name": "stdout",
     "output_type": "stream",
     "text": [
      "120\n"
     ]
    }
   ],
   "source": [
    "def factorial(n):\n",
    "    return reduce(lambda x, y: x*y, range(1, n+1), 1)\n",
    "\n",
    "n=5\n",
    "\n",
    "pool = ProcessPool()\n",
    "result = pool.map(factorial, [n])\n",
    "\n",
    "print(result[0]) "
   ]
  },
  {
   "cell_type": "code",
   "execution_count": 67,
   "id": "8a467bed-5fc7-4944-8eac-67be50cd16af",
   "metadata": {},
   "outputs": [
    {
     "name": "stdout",
     "output_type": "stream",
     "text": [
      "5! = 120\n",
      "10! = 3628800\n"
     ]
    }
   ],
   "source": [
    "def chunked_factorial(n, chunks=4):\n",
    "    ranges = []\n",
    "    step = n // chunks\n",
    "    for i in range(chunks):\n",
    "        start = i * step + 1\n",
    "        end = (i + 1) * step if i < chunks - 1 else n\n",
    "        ranges.append(range(start, end + 1))\n",
    "    return ranges\n",
    "\n",
    "def partial_product(r):\n",
    "    return reduce(mul, r, 1)\n",
    "\n",
    "def parallel_factorial(n, chunks=None):\n",
    "    if chunks is None:\n",
    "        chunks = cpu_count()\n",
    "    ranges = chunked_factorial(n, chunks)\n",
    "    with Pool(chunks) as pool:\n",
    "        partial_results = pool.map(partial_product, ranges)\n",
    "    return reduce(mul, partial_results, 1)\n",
    "\n",
    "print(\"5! =\", parallel_factorial(5))   # 120\n",
    "print(\"10! =\", parallel_factorial(10)) # 3628800"
   ]
  },
  {
   "cell_type": "markdown",
   "id": "60bdf6bc-5324-4daf-988c-b7d6a6946984",
   "metadata": {},
   "source": [
    "3. Write a parallelised version of reduce (hint: use chunking)/Напишіть паралелізовану версію reduce (підказка: використовуйте фрагментацію)."
   ]
  },
  {
   "cell_type": "code",
   "execution_count": 68,
   "id": "8e4ddf52-a2d1-4fbd-925a-5cb8031b885e",
   "metadata": {},
   "outputs": [
    {
     "name": "stdout",
     "output_type": "stream",
     "text": [
      "5050\n"
     ]
    }
   ],
   "source": [
    "def parallel_sum(lst, n_chunks=2):\n",
    "    chunks = np.array_split(lst, n_chunks)\n",
    "    \n",
    "    with Pool() as pool:\n",
    "        partial_sums = pool.map(sum, chunks)\n",
    "        \n",
    "    return sum(partial_sums)\n",
    "\n",
    "int_list = list(range(1, 101))\n",
    "print(parallel_sum(int_list, n_chunks=4))  # 5050"
   ]
  },
  {
   "cell_type": "markdown",
   "id": "7e5a3eef-5d33-49cf-acfa-92d3ddbc2da2",
   "metadata": {},
   "source": [
    "4. Compare performance of Numpy vectorization vs parallel map on a really large array of integers./\n",
    "Порівняйте продуктивність векторизації Numpy та паралельного відображення на дійсно великому масиві цілих чисел."
   ]
  },
  {
   "cell_type": "code",
   "execution_count": 59,
   "id": "a77b5630-c41c-4b90-a1e6-c013ae219da5",
   "metadata": {},
   "outputs": [
    {
     "name": "stdout",
     "output_type": "stream",
     "text": [
      "np.vectorize time: 0.18257617950439453\n"
     ]
    }
   ],
   "source": [
    "start = time.time()\n",
    "\n",
    "np_array = np.arange(1, 1000000)\n",
    "\n",
    "vectorized_fn = np.vectorize(lambda x: x*x)\n",
    "\n",
    "result = vectorized_fn(np_array)\n",
    "#print(result)\n",
    "\n",
    "end = time.time()\n",
    "print(\"np.vectorize time:\", end - start)"
   ]
  },
  {
   "cell_type": "code",
   "execution_count": 60,
   "id": "f4c85a8b-7e5a-40c9-b1cf-4242c784edcb",
   "metadata": {},
   "outputs": [
    {
     "name": "stdout",
     "output_type": "stream",
     "text": [
      "NumPy vectorization time: 0.008358955383300781\n"
     ]
    }
   ],
   "source": [
    "start = time.time()\n",
    "res_numpy = np_array * np_array\n",
    "end = time.time()\n",
    "\n",
    "print(\"NumPy vectorization time:\", end - start)"
   ]
  },
  {
   "cell_type": "code",
   "execution_count": 61,
   "id": "21189f65-9ad8-43b6-a732-df201b5ed390",
   "metadata": {},
   "outputs": [
    {
     "name": "stdout",
     "output_type": "stream",
     "text": [
      "Parallel map with Pathos: 13.01998782157898\n"
     ]
    }
   ],
   "source": [
    "from pathos.multiprocessing import ProcessPool\n",
    "\n",
    "start = time.time()\n",
    "pool = ProcessPool()\n",
    "result = pool.map(lambda x: x*x, np_array)\n",
    "end = time.time()\n",
    "\n",
    "print(\"Parallel map with Pathos:\", end - start)"
   ]
  },
  {
   "cell_type": "code",
   "execution_count": 62,
   "id": "da210466-fc98-4799-9da5-41badc0b7281",
   "metadata": {
    "scrolled": true
   },
   "outputs": [
    {
     "data": {
      "text/plain": [
       "'\\ndef sqr(x):\\n    return x*x\\n\\nnp_array = np.arange(1, 100000)\\n\\nn_processes = 4\\nchunksize = max(1, len(np_array) // (n_processes * 4))\\n\\nstart = time.time()\\nwith Pool(n_processes) as pool:\\n    result = pool.map(sqr, np_array, chunksize=chunksize)\\nend = time.time()\\n\\nprint(\"Parallel map time:\", end - start)\\n'"
      ]
     },
     "execution_count": 62,
     "metadata": {},
     "output_type": "execute_result"
    }
   ],
   "source": [
    "\"\"\"\n",
    "def sqr(x):\n",
    "    return x*x\n",
    "\n",
    "np_array = np.arange(1, 100000)\n",
    "\n",
    "n_processes = 4\n",
    "chunksize = max(1, len(np_array) // (n_processes * 4))\n",
    "\n",
    "start = time.time()\n",
    "with Pool(n_processes) as pool:\n",
    "    result = pool.map(sqr, np_array, chunksize=chunksize)\n",
    "end = time.time()\n",
    "\n",
    "print(\"Parallel map time:\", end - start)\n",
    "\"\"\""
   ]
  },
  {
   "cell_type": "markdown",
   "id": "2e6d167f-3761-4f4f-8473-e088466fddeb",
   "metadata": {},
   "source": [
    "5. Using computations from previous labs, apply chunking approach to df.apply(...) using parallel map./ Використовуючи обчислення з попередніх лабораторних робіт, застосуйте підхід фрагментації до df.apply(...) з використанням паралельного відображення."
   ]
  },
  {
   "cell_type": "code",
   "execution_count": 63,
   "id": "cfd8023e-1e06-4b95-aa0f-5d28f4215024",
   "metadata": {
    "scrolled": true
   },
   "outputs": [
    {
     "data": {
      "text/html": [
       "<div>\n",
       "<style scoped>\n",
       "    .dataframe tbody tr th:only-of-type {\n",
       "        vertical-align: middle;\n",
       "    }\n",
       "\n",
       "    .dataframe tbody tr th {\n",
       "        vertical-align: top;\n",
       "    }\n",
       "\n",
       "    .dataframe thead th {\n",
       "        text-align: right;\n",
       "    }\n",
       "</style>\n",
       "<table border=\"1\" class=\"dataframe\">\n",
       "  <thead>\n",
       "    <tr style=\"text-align: right;\">\n",
       "      <th></th>\n",
       "      <th>Unnamed: 0</th>\n",
       "      <th>country</th>\n",
       "      <th>description</th>\n",
       "      <th>designation</th>\n",
       "      <th>points</th>\n",
       "      <th>price</th>\n",
       "      <th>province</th>\n",
       "      <th>region_1</th>\n",
       "      <th>region_2</th>\n",
       "      <th>taster_name</th>\n",
       "      <th>taster_twitter_handle</th>\n",
       "      <th>title</th>\n",
       "      <th>variety</th>\n",
       "      <th>winery</th>\n",
       "    </tr>\n",
       "  </thead>\n",
       "  <tbody>\n",
       "    <tr>\n",
       "      <th>0</th>\n",
       "      <td>0</td>\n",
       "      <td>Italy</td>\n",
       "      <td>Aromas include tropical fruit, broom, brimston...</td>\n",
       "      <td>Vulkà Bianco</td>\n",
       "      <td>87</td>\n",
       "      <td>35.363389</td>\n",
       "      <td>Sicily &amp; Sardinia</td>\n",
       "      <td>Etna</td>\n",
       "      <td>NaN</td>\n",
       "      <td>Kerin O’Keefe</td>\n",
       "      <td>@kerinokeefe</td>\n",
       "      <td>Nicosia 2013 Vulkà Bianco  (Etna)</td>\n",
       "      <td>White Blend</td>\n",
       "      <td>Nicosia</td>\n",
       "    </tr>\n",
       "    <tr>\n",
       "      <th>1</th>\n",
       "      <td>1</td>\n",
       "      <td>Portugal</td>\n",
       "      <td>This is ripe and fruity, a wine that is smooth...</td>\n",
       "      <td>Avidagos</td>\n",
       "      <td>87</td>\n",
       "      <td>15.000000</td>\n",
       "      <td>Douro</td>\n",
       "      <td>NaN</td>\n",
       "      <td>NaN</td>\n",
       "      <td>Roger Voss</td>\n",
       "      <td>@vossroger</td>\n",
       "      <td>Quinta dos Avidagos 2011 Avidagos Red (Douro)</td>\n",
       "      <td>Portuguese Red</td>\n",
       "      <td>Quinta dos Avidagos</td>\n",
       "    </tr>\n",
       "    <tr>\n",
       "      <th>2</th>\n",
       "      <td>2</td>\n",
       "      <td>US</td>\n",
       "      <td>Tart and snappy, the flavors of lime flesh and...</td>\n",
       "      <td>NaN</td>\n",
       "      <td>87</td>\n",
       "      <td>14.000000</td>\n",
       "      <td>Oregon</td>\n",
       "      <td>Willamette Valley</td>\n",
       "      <td>Willamette Valley</td>\n",
       "      <td>Paul Gregutt</td>\n",
       "      <td>@paulgwine</td>\n",
       "      <td>Rainstorm 2013 Pinot Gris (Willamette Valley)</td>\n",
       "      <td>Pinot Gris</td>\n",
       "      <td>Rainstorm</td>\n",
       "    </tr>\n",
       "    <tr>\n",
       "      <th>3</th>\n",
       "      <td>3</td>\n",
       "      <td>US</td>\n",
       "      <td>Pineapple rind, lemon pith and orange blossom ...</td>\n",
       "      <td>Reserve Late Harvest</td>\n",
       "      <td>87</td>\n",
       "      <td>13.000000</td>\n",
       "      <td>Michigan</td>\n",
       "      <td>Lake Michigan Shore</td>\n",
       "      <td>NaN</td>\n",
       "      <td>Alexander Peartree</td>\n",
       "      <td>NaN</td>\n",
       "      <td>St. Julian 2013 Reserve Late Harvest Riesling ...</td>\n",
       "      <td>Riesling</td>\n",
       "      <td>St. Julian</td>\n",
       "    </tr>\n",
       "    <tr>\n",
       "      <th>4</th>\n",
       "      <td>4</td>\n",
       "      <td>US</td>\n",
       "      <td>Much like the regular bottling from 2012, this...</td>\n",
       "      <td>Vintner's Reserve Wild Child Block</td>\n",
       "      <td>87</td>\n",
       "      <td>65.000000</td>\n",
       "      <td>Oregon</td>\n",
       "      <td>Willamette Valley</td>\n",
       "      <td>Willamette Valley</td>\n",
       "      <td>Paul Gregutt</td>\n",
       "      <td>@paulgwine</td>\n",
       "      <td>Sweet Cheeks 2012 Vintner's Reserve Wild Child...</td>\n",
       "      <td>Pinot Noir</td>\n",
       "      <td>Sweet Cheeks</td>\n",
       "    </tr>\n",
       "  </tbody>\n",
       "</table>\n",
       "</div>"
      ],
      "text/plain": [
       "   Unnamed: 0   country                                        description  \\\n",
       "0           0     Italy  Aromas include tropical fruit, broom, brimston...   \n",
       "1           1  Portugal  This is ripe and fruity, a wine that is smooth...   \n",
       "2           2        US  Tart and snappy, the flavors of lime flesh and...   \n",
       "3           3        US  Pineapple rind, lemon pith and orange blossom ...   \n",
       "4           4        US  Much like the regular bottling from 2012, this...   \n",
       "\n",
       "                          designation  points      price           province  \\\n",
       "0                        Vulkà Bianco      87  35.363389  Sicily & Sardinia   \n",
       "1                            Avidagos      87  15.000000              Douro   \n",
       "2                                 NaN      87  14.000000             Oregon   \n",
       "3                Reserve Late Harvest      87  13.000000           Michigan   \n",
       "4  Vintner's Reserve Wild Child Block      87  65.000000             Oregon   \n",
       "\n",
       "              region_1           region_2         taster_name  \\\n",
       "0                 Etna                NaN       Kerin O’Keefe   \n",
       "1                  NaN                NaN          Roger Voss   \n",
       "2    Willamette Valley  Willamette Valley        Paul Gregutt   \n",
       "3  Lake Michigan Shore                NaN  Alexander Peartree   \n",
       "4    Willamette Valley  Willamette Valley        Paul Gregutt   \n",
       "\n",
       "  taster_twitter_handle                                              title  \\\n",
       "0          @kerinokeefe                  Nicosia 2013 Vulkà Bianco  (Etna)   \n",
       "1            @vossroger      Quinta dos Avidagos 2011 Avidagos Red (Douro)   \n",
       "2           @paulgwine       Rainstorm 2013 Pinot Gris (Willamette Valley)   \n",
       "3                   NaN  St. Julian 2013 Reserve Late Harvest Riesling ...   \n",
       "4           @paulgwine   Sweet Cheeks 2012 Vintner's Reserve Wild Child...   \n",
       "\n",
       "          variety               winery  \n",
       "0     White Blend              Nicosia  \n",
       "1  Portuguese Red  Quinta dos Avidagos  \n",
       "2      Pinot Gris            Rainstorm  \n",
       "3        Riesling           St. Julian  \n",
       "4      Pinot Noir         Sweet Cheeks  "
      ]
     },
     "execution_count": 63,
     "metadata": {},
     "output_type": "execute_result"
    }
   ],
   "source": [
    "df = pd.read_csv(\"winemag-data-130k-v2.csv\")\n",
    "df[\"price\"] = df[\"price\"].fillna(df[\"price\"].mean())\n",
    "df.head()"
   ]
  },
  {
   "cell_type": "code",
   "execution_count": null,
   "id": "26676905-15d4-445d-b94d-786745ef1aba",
   "metadata": {},
   "outputs": [],
   "source": []
  },
  {
   "cell_type": "code",
   "execution_count": 64,
   "id": "86b8c7de-341d-4804-9fff-86a3321d3e15",
   "metadata": {},
   "outputs": [],
   "source": [
    "def points_per_dollar_py(row):\n",
    "    return row[\"points\"] / row[\"price\"]"
   ]
  },
  {
   "cell_type": "code",
   "execution_count": 65,
   "id": "f707a77b-6867-461c-b687-0ec15f45c291",
   "metadata": {},
   "outputs": [
    {
     "name": "stdout",
     "output_type": "stream",
     "text": [
      "349 ms ± 3.98 ms per loop (mean ± std. dev. of 7 runs, 1 loop each)\n"
     ]
    }
   ],
   "source": [
    "\"\"\"\n",
    "def compute_chunk(chunk):\n",
    "    return chunk.apply(points_per_dollar_py, axis=1)\n",
    "\n",
    "def parallel_compute(df, n_chunks=None):\n",
    "    if n_chunks is None:\n",
    "        n_chunks = cpu_count()  # автоматично підбираємо кількість процесів\n",
    "\n",
    "    chunk_size = len(df) // n_chunks\n",
    "    chunks = [df.iloc[i*chunk_size:(i+1)*chunk_size] for i in range(n_chunks)]\n",
    "\n",
    "    with Pool(n_chunks) as pool:\n",
    "        results = pool.map(compute_chunk, chunks)\n",
    "\n",
    "    return pd.concat(results)\n",
    "\"\"\"\n",
    "\n",
    "%timeit df.apply(points_per_dollar_py, axis=1)\n",
    "#%timeit parallel_compute(df.head(10000), 4)\n"
   ]
  },
  {
   "cell_type": "code",
   "execution_count": 66,
   "id": "70c82897-a728-4422-b22b-bb283f71cb65",
   "metadata": {},
   "outputs": [
    {
     "name": "stdout",
     "output_type": "stream",
     "text": [
      "78 ms ± 3.38 ms per loop (mean ± std. dev. of 7 runs, 10 loops each)\n"
     ]
    }
   ],
   "source": [
    "def points_per_dollar_py(row):\n",
    "    return row[\"points\"] / row[\"price\"]\n",
    "\n",
    "def compute_chunk(chunk):\n",
    "    return chunk.apply(points_per_dollar_py, axis=1)\n",
    "\n",
    "def parallel_compute(df, n_chunks=None):\n",
    "    if n_chunks is None:\n",
    "        n_chunks = cpu_count()\n",
    "\n",
    "    chunks = np.array_split(df, n_chunks)\n",
    "\n",
    "    with Pool(n_chunks) as pool:\n",
    "        results = pool.map(compute_chunk, chunks)\n",
    "\n",
    "    return pd.concat(results)\n",
    "\n",
    "%timeit parallel_compute(df.head(10000), 4)  "
   ]
  },
  {
   "cell_type": "code",
   "execution_count": null,
   "id": "8458383f-7017-4300-8aed-9c6ebdc7bbba",
   "metadata": {},
   "outputs": [],
   "source": []
  }
 ],
 "metadata": {
  "kernelspec": {
   "display_name": "Python 3 (ipykernel)",
   "language": "python",
   "name": "python3"
  },
  "language_info": {
   "codemirror_mode": {
    "name": "ipython",
    "version": 3
   },
   "file_extension": ".py",
   "mimetype": "text/x-python",
   "name": "python",
   "nbconvert_exporter": "python",
   "pygments_lexer": "ipython3",
   "version": "3.11.13"
  }
 },
 "nbformat": 4,
 "nbformat_minor": 5
}
