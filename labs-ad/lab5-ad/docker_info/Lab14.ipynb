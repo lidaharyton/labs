{
 "cells": [
  {
   "cell_type": "markdown",
   "id": "b2739776-7c38-4dbd-bdc8-8aa12ffac21f",
   "metadata": {},
   "source": [
    "# Docker"
   ]
  },
  {
   "cell_type": "markdown",
   "id": "ca88f4f3-aa80-43e9-a329-a6b80b1bcd56",
   "metadata": {},
   "source": [
    "## Running\n",
    "\n",
    "Download Docker from https://www.docker.com/products/docker-desktop/.\n",
    "\n",
    "Install it, give it admin permissions if asked.\n",
    "\n",
    "Most of the commands listed below can be executed from within Jupyter notebook, by prefixing with an exclamation mark (`!`). However, some things require running from the shell. On Unix-like systems, it's called **Terminal**. On Windows, it's **Command Prompt**."
   ]
  },
  {
   "cell_type": "markdown",
   "id": "5fa271b4-8e1b-4475-ae4a-6ac2e6c559bf",
   "metadata": {},
   "source": [
    "Check that Docker is installed by running `docker version`:"
   ]
  },
  {
   "cell_type": "code",
   "execution_count": 1,
   "id": "2f44b325-dd2a-49a8-82ff-3bc859481b28",
   "metadata": {},
   "outputs": [
    {
     "name": "stdout",
     "output_type": "stream",
     "text": [
      "Client:\n",
      " Version:           27.2.0\n",
      " API version:       1.47\n",
      " Go version:        go1.21.13\n",
      " Git commit:        3ab4256\n",
      " Built:             Tue Aug 27 14:14:45 2024\n",
      " OS/Arch:           darwin/arm64\n",
      " Context:           desktop-linux\n",
      "\n",
      "Server: Docker Desktop 4.34.3 (170107)\n",
      " Engine:\n",
      "  Version:          27.2.0\n",
      "  API version:      1.47 (minimum version 1.24)\n",
      "  Go version:       go1.21.13\n",
      "  Git commit:       3ab5c7d\n",
      "  Built:            Tue Aug 27 14:15:41 2024\n",
      "  OS/Arch:          linux/arm64\n",
      "  Experimental:     false\n",
      " containerd:\n",
      "  Version:          1.7.20\n",
      "  GitCommit:        8fc6bcff51318944179630522a095cc9dbf9f353\n",
      " runc:\n",
      "  Version:          1.1.13\n",
      "  GitCommit:        v1.1.13-0-g58aa920\n",
      " docker-init:\n",
      "  Version:          0.19.0\n",
      "  GitCommit:        de40ad0\n"
     ]
    }
   ],
   "source": [
    "!docker version"
   ]
  },
  {
   "cell_type": "markdown",
   "id": "dc726f59-10b0-4665-8086-3e74ecf0aeaf",
   "metadata": {},
   "source": [
    "All Docker commands are grouped into categories (e.g. `container`, `image`, `volume`, etc.).\n",
    "\n",
    "So if you want to work on images, the corresponding command will start with `docker image`, on networks - with `docker network`, and so on.\n",
    "\n",
    "If not category is listed, `container` is assumed by default."
   ]
  },
  {
   "cell_type": "markdown",
   "id": "ecb6b834-9527-452f-9e74-42562ba6f41a",
   "metadata": {},
   "source": [
    "Let's run an extremely simple container, and execute some command in it."
   ]
  },
  {
   "cell_type": "code",
   "execution_count": 2,
   "id": "56360a6a-ef73-4730-bf44-fe9eb88d327e",
   "metadata": {},
   "outputs": [
    {
     "name": "stdout",
     "output_type": "stream",
     "text": [
      "Unable to find image 'alpine:latest' locally\n",
      "latest: Pulling from library/alpine\n",
      "\n",
      "\u001b[1Bc63912e1: Download complete MB/4.088MB\u001b[1A\u001b[2K\u001b[1A\u001b[2K\u001b[1A\u001b[2K\u001b[1A\u001b[2KDigest: sha256:beefdbd8a1da6d2915566fde36db9db0b524eb737fc57cd1367effd16dc0d06d\n",
      "Status: Downloaded newer image for alpine:latest\n",
      "Hello World\n"
     ]
    }
   ],
   "source": [
    "!docker container run alpine echo \"Hello World\"\n"
   ]
  },
  {
   "cell_type": "markdown",
   "id": "b870836e-1706-4e25-a14c-1dbbc123a207",
   "metadata": {},
   "source": [
    "the above command has 4 parts:\n",
    "\n",
    "1. `container` - means that we want to do something with a container (run, remove, etc.)\n",
    "2. `run` - we will run the container\n",
    "3. `alpine` - this is the name of the image to run inside the container. `Alpine` is a simple Linux version optimized for containers, with very small footprint\n",
    "4. and, finally, `echo \"Hello World\"` is the command we want to immediately execute inside the container."
   ]
  },
  {
   "cell_type": "markdown",
   "id": "6a8803bf-1c0f-458c-b98c-a0a32a392a76",
   "metadata": {},
   "source": [
    "Let's try another image, this time `centos` (another popular Linux distribution):"
   ]
  },
  {
   "cell_type": "code",
   "execution_count": 4,
   "id": "44a0c175-beaa-431f-8a4b-cfafcbee2a57",
   "metadata": {},
   "outputs": [
    {
     "name": "stdout",
     "output_type": "stream",
     "text": [
      "Unable to find image 'centos:latest' locally\n",
      "latest: Pulling from library/centos\n",
      "\n",
      "\u001b[1Bef134af7: Download complete MB/83.94MB\u001b[1A\u001b[2K\u001b[1A\u001b[2K\u001b[1A\u001b[2K\u001b[1A\u001b[2K\u001b[1A\u001b[2K\u001b[1A\u001b[2K\u001b[1A\u001b[2K\u001b[1A\u001b[2K\u001b[1A\u001b[2K\u001b[1A\u001b[2K\u001b[1A\u001b[2K\u001b[1A\u001b[2K\u001b[1A\u001b[2K\u001b[1A\u001b[2K\u001b[1A\u001b[2K\u001b[1A\u001b[2K\u001b[1A\u001b[2K\u001b[1A\u001b[2K\u001b[1A\u001b[2K\u001b[1A\u001b[2K\u001b[1A\u001b[2K\u001b[1A\u001b[2K\u001b[1A\u001b[2K\u001b[1A\u001b[2K\u001b[1A\u001b[2K\u001b[1A\u001b[2K\u001b[1A\u001b[2K\u001b[1A\u001b[2K\u001b[1A\u001b[2K\u001b[1A\u001b[2K\u001b[1A\u001b[2K\u001b[1A\u001b[2K\u001b[1A\u001b[2K\u001b[1A\u001b[2K\u001b[1A\u001b[2K\u001b[1A\u001b[2K\u001b[1A\u001b[2K\u001b[1A\u001b[2K\u001b[1A\u001b[2K\u001b[1A\u001b[2K\u001b[1A\u001b[2K\u001b[1A\u001b[2K\u001b[1A\u001b[2K\u001b[1A\u001b[2K\u001b[1A\u001b[2K\u001b[1A\u001b[2K\u001b[1A\u001b[2K\u001b[1A\u001b[2K\u001b[1A\u001b[2K\u001b[1A\u001b[2K\u001b[1A\u001b[2K\u001b[1A\u001b[2K\u001b[1A\u001b[2K\u001b[1A\u001b[2K\u001b[1A\u001b[2K\u001b[1A\u001b[2K\u001b[1A\u001b[2K\u001b[1A\u001b[2K\u001b[1A\u001b[2K\u001b[1A\u001b[2K\u001b[1A\u001b[2K\u001b[1A\u001b[2K\u001b[1A\u001b[2K\u001b[1A\u001b[2K\u001b[1A\u001b[2K\u001b[1A\u001b[2K\u001b[1A\u001b[2K\u001b[1A\u001b[2K\u001b[1A\u001b[2K\u001b[1A\u001b[2K\u001b[1A\u001b[2K\u001b[1A\u001b[2K\u001b[1A\u001b[2K\u001b[1A\u001b[2K\u001b[1A\u001b[2K\u001b[1A\u001b[2K\u001b[1A\u001b[2K\u001b[1A\u001b[2K\u001b[1A\u001b[2K\u001b[1A\u001b[2K\u001b[1A\u001b[2K\u001b[1A\u001b[2K\u001b[1A\u001b[2K\u001b[1A\u001b[2K\u001b[1A\u001b[2K\u001b[1A\u001b[2K\u001b[1A\u001b[2K\u001b[1A\u001b[2K\u001b[1A\u001b[2K\u001b[1A\u001b[2K\u001b[1A\u001b[2K\u001b[1A\u001b[2K\u001b[1A\u001b[2K\u001b[1A\u001b[2K\u001b[1A\u001b[2KDigest: sha256:a27fd8080b517143cbbbab9dfb7c8571c40d67d534bbdee55bd6c473f432b177\n",
      "Status: Downloaded newer image for centos:latest\n",
      "PING 127.0.0.1 (127.0.0.1) 56(84) bytes of data.\n",
      "64 bytes from 127.0.0.1: icmp_seq=1 ttl=64 time=0.041 ms\n",
      "64 bytes from 127.0.0.1: icmp_seq=2 ttl=64 time=0.099 ms\n",
      "64 bytes from 127.0.0.1: icmp_seq=3 ttl=64 time=0.087 ms\n",
      "64 bytes from 127.0.0.1: icmp_seq=4 ttl=64 time=0.094 ms\n",
      "64 bytes from 127.0.0.1: icmp_seq=5 ttl=64 time=0.074 ms\n",
      "\n",
      "--- 127.0.0.1 ping statistics ---\n",
      "5 packets transmitted, 5 received, 0% packet loss, time 4118ms\n",
      "rtt min/avg/max/mdev = 0.041/0.079/0.099/0.020 ms\n"
     ]
    }
   ],
   "source": [
    "!docker container run centos ping -c 5 127.0.0.1"
   ]
  },
  {
   "cell_type": "markdown",
   "id": "ce6bf6b1-acd2-40e1-b8b0-c9b383520104",
   "metadata": {},
   "source": [
    "Note that it pings 5 times, and this output is shown in the notebook."
   ]
  },
  {
   "cell_type": "markdown",
   "id": "6343fcb5-e801-46a4-be63-363e7eabaf13",
   "metadata": {},
   "source": [
    "Now let's try passing some command ***options***:"
   ]
  },
  {
   "cell_type": "code",
   "execution_count": null,
   "id": "245170b4-8a99-4252-82f4-de0170ac7f78",
   "metadata": {},
   "outputs": [],
   "source": [
    "!docker container run --detach --name trivia fundamentalsofdocker/trivia:ed2"
   ]
  },
  {
   "cell_type": "markdown",
   "id": "33b92b74-38ff-45e9-a4d5-cc2c99daa641",
   "metadata": {},
   "source": [
    "Here `--detach` means that we leave it running in the background (no messages pushed to the output cell).\n",
    "\n",
    "And `--name` is there for optionally specifying a container name. If not explicitly given, Docker will assign some name by itself."
   ]
  },
  {
   "cell_type": "markdown",
   "id": "59503671-e404-4855-afb8-a45af65f0af1",
   "metadata": {},
   "source": [
    "We can list currently running containers with `ls` command. `-l` means \"provide detailed output\"."
   ]
  },
  {
   "cell_type": "code",
   "execution_count": 6,
   "id": "73d9f8a9-eb37-4a20-9407-5d54dd1ded40",
   "metadata": {},
   "outputs": [
    {
     "name": "stdout",
     "output_type": "stream",
     "text": [
      "CONTAINER ID   IMAGE                             COMMAND                  CREATED          STATUS          PORTS     NAMES\n",
      "bca55b773358   fundamentalsofdocker/trivia:ed2   \"/bin/sh -c 'source …\"   27 seconds ago   Up 26 seconds             trivia\n"
     ]
    }
   ],
   "source": [
    "!docker container ls -l"
   ]
  },
  {
   "cell_type": "markdown",
   "id": "0a28956c-409f-428d-8627-e0893d54185d",
   "metadata": {},
   "source": [
    "And we can remove a container with `rm`. `--force` option is there so that Docker does not complain that the container in question is still running. Note that we skip the `container` part, as by default it's `container` anyway."
   ]
  },
  {
   "cell_type": "code",
   "execution_count": 18,
   "id": "74a731d9-983b-4991-8c4c-8ac2d0185b60",
   "metadata": {},
   "outputs": [
    {
     "name": "stdout",
     "output_type": "stream",
     "text": [
      "Cannot connect to the Docker daemon at unix:///Users/vitvly/.docker/run/docker.sock. Is the docker daemon running?\n"
     ]
    }
   ],
   "source": [
    "!docker rm --force trivia\n"
   ]
  },
  {
   "cell_type": "markdown",
   "id": "9b1648b2-de42-4464-b017-a5dcaf54392f",
   "metadata": {},
   "source": [
    "Now we shouldn't see any running containers:"
   ]
  },
  {
   "cell_type": "code",
   "execution_count": 9,
   "id": "f1cbb9a3-1a85-42d6-88ec-6f62c19ca878",
   "metadata": {},
   "outputs": [
    {
     "name": "stdout",
     "output_type": "stream",
     "text": [
      "CONTAINER ID   IMAGE     COMMAND   CREATED   STATUS    PORTS     NAMES\n"
     ]
    }
   ],
   "source": [
    "!docker container ls"
   ]
  },
  {
   "cell_type": "markdown",
   "id": "947a2608-f38b-4c7d-acb8-cc739d02ebef",
   "metadata": {},
   "source": [
    "We can also passing a `-a` option. This will list all containers, not only the currently running ones."
   ]
  },
  {
   "cell_type": "code",
   "execution_count": 11,
   "id": "3416bb43-635f-4f95-b882-298fb55ec008",
   "metadata": {},
   "outputs": [
    {
     "name": "stdout",
     "output_type": "stream",
     "text": [
      "CONTAINER ID   IMAGE                 COMMAND                  CREATED          STATUS                      PORTS     NAMES\n",
      "e0a8ea8c48e9   centos                \"ping -c 5 127.0.0.1\"    54 minutes ago   Exited (0) 54 minutes ago             nifty_neumann\n",
      "98beda218482   alpine                \"echo 'Hello World'\"     56 minutes ago   Exited (0) 56 minutes ago             quizzical_pascal\n",
      "44fe2fb9314d   alpine                \"echo 'Hello World'\"     57 minutes ago   Exited (0) 57 minutes ago             crazy_bouman\n",
      "ab7337959b5e   quay.io/minio/minio   \"/usr/bin/docker-ent…\"   6 days ago       Exited (0) 6 days ago                 minio\n"
     ]
    }
   ],
   "source": [
    "!docker container ls -a"
   ]
  },
  {
   "cell_type": "markdown",
   "id": "656b96d7-bbb7-4561-85e3-874d414efa05",
   "metadata": {},
   "source": [
    "Take some time to examine the list and columns.\n",
    "\n",
    "The `-q` option will only list container IDs:"
   ]
  },
  {
   "cell_type": "code",
   "execution_count": 12,
   "id": "05ec2d2a-5b12-4838-91f8-07858c40ec4e",
   "metadata": {},
   "outputs": [
    {
     "name": "stdout",
     "output_type": "stream",
     "text": [
      "e0a8ea8c48e9\n",
      "98beda218482\n",
      "44fe2fb9314d\n",
      "ab7337959b5e\n"
     ]
    }
   ],
   "source": [
    "!docker container ls -a -q\n"
   ]
  },
  {
   "cell_type": "markdown",
   "id": "e399965f-5263-44b2-8a3f-77c1443ba391",
   "metadata": {},
   "source": [
    "Also, you can invoke `--help` command option to list all available options for particular command:"
   ]
  },
  {
   "cell_type": "code",
   "execution_count": 19,
   "id": "0ca7a4b6-80c2-43f6-b600-7f8e5d2d07f0",
   "metadata": {},
   "outputs": [
    {
     "name": "stdout",
     "output_type": "stream",
     "text": [
      "\n",
      "Usage:  docker container ls [OPTIONS]\n",
      "\n",
      "List containers\n",
      "\n",
      "Aliases:\n",
      "  docker container ls, docker container list, docker container ps, docker ps\n",
      "\n",
      "Options:\n",
      "  -a, --all             Show all containers (default shows just running)\n",
      "  -f, --filter filter   Filter output based on conditions provided\n",
      "      --format string   Format output using a custom template:\n",
      "                        'table':            Print output in table format\n",
      "                        with column headers (default)\n",
      "                        'table TEMPLATE':   Print output in table format\n",
      "                        using the given Go template\n",
      "                        'json':             Print in JSON format\n",
      "                        'TEMPLATE':         Print output using the given\n",
      "                        Go template.\n",
      "                        Refer to https://docs.docker.com/go/formatting/\n",
      "                        for more information about formatting output with\n",
      "                        templates\n",
      "  -n, --last int        Show n last created containers (includes all\n",
      "                        states) (default -1)\n",
      "  -l, --latest          Show the latest created container (includes all\n",
      "                        states)\n",
      "      --no-trunc        Don't truncate output\n",
      "  -q, --quiet           Only display container IDs\n",
      "  -s, --size            Display total file sizes\n"
     ]
    }
   ],
   "source": [
    "!docker container ls --help"
   ]
  },
  {
   "cell_type": "markdown",
   "id": "5de8932e-553e-4bc3-ab50-e13a38d4cd1b",
   "metadata": {},
   "source": [
    "There is also a `stop` container command that stops a container by ID or name:"
   ]
  },
  {
   "cell_type": "code",
   "execution_count": 21,
   "id": "82cab760-c2fd-42f9-b948-89c5acca48ed",
   "metadata": {},
   "outputs": [
    {
     "name": "stdout",
     "output_type": "stream",
     "text": [
      "trivia\n"
     ]
    }
   ],
   "source": [
    "!docker container stop trivia"
   ]
  },
  {
   "cell_type": "markdown",
   "id": "c23b738f-179f-4f25-acf2-0f23aedcb120",
   "metadata": {},
   "source": [
    "After stopping, container will be down, but not removed, hence visible in the output of `ls -a`:"
   ]
  },
  {
   "cell_type": "code",
   "execution_count": 22,
   "id": "556e552f-1882-4efd-8218-8396475a382d",
   "metadata": {},
   "outputs": [
    {
     "name": "stdout",
     "output_type": "stream",
     "text": [
      "576a24020ffd\n"
     ]
    }
   ],
   "source": [
    "!docker container ls -aq"
   ]
  },
  {
   "cell_type": "markdown",
   "id": "35534f15-8fd6-48b9-938b-5e44c4118f95",
   "metadata": {},
   "source": [
    "We can start the container again via `start` command:"
   ]
  },
  {
   "cell_type": "code",
   "execution_count": 23,
   "id": "8fbe332f-12ac-4cee-8375-ff0219cd6063",
   "metadata": {},
   "outputs": [
    {
     "name": "stdout",
     "output_type": "stream",
     "text": [
      "576a24020ffd\n"
     ]
    }
   ],
   "source": [
    "!docker container start 576a24020ffd"
   ]
  },
  {
   "cell_type": "code",
   "execution_count": 24,
   "id": "bfbc9ecb-7c73-4a02-aebd-6c7f5f22fbb5",
   "metadata": {},
   "outputs": [
    {
     "name": "stdout",
     "output_type": "stream",
     "text": [
      "trivia\n"
     ]
    }
   ],
   "source": [
    "!docker container stop trivia"
   ]
  },
  {
   "cell_type": "code",
   "execution_count": 26,
   "id": "bb15b0e0-a323-4062-a131-ff8993d496e5",
   "metadata": {},
   "outputs": [
    {
     "name": "stdout",
     "output_type": "stream",
     "text": [
      "CONTAINER ID   IMAGE                             COMMAND                  CREATED         STATUS                        PORTS     NAMES\n",
      "576a24020ffd   fundamentalsofdocker/trivia:ed2   \"/bin/sh -c 'source …\"   3 minutes ago   Exited (137) 27 seconds ago             trivia\n"
     ]
    }
   ],
   "source": [
    "!docker container ls -a"
   ]
  },
  {
   "cell_type": "markdown",
   "id": "1f0923e5-4869-4542-8261-a00dd9e9ed6e",
   "metadata": {},
   "source": [
    "Now, we can ***inspect*** the container via `inspect` command:"
   ]
  },
  {
   "cell_type": "code",
   "execution_count": 38,
   "id": "332e9479-23cd-45c6-89c8-496740eda046",
   "metadata": {},
   "outputs": [
    {
     "name": "stdout",
     "output_type": "stream",
     "text": [
      "[\n",
      "    {\n",
      "        \"Id\": \"3eb3a1011d623c9c13c22ba6b0130b34b0db071c5e9f96254a9f76bfe1ffb81d\",\n",
      "        \"Created\": \"2024-11-05T10:35:21.679070631Z\",\n",
      "        \"Path\": \"/bin/sh\",\n",
      "        \"Args\": [\n",
      "            \"-c\",\n",
      "            \"source script.sh\"\n",
      "        ],\n",
      "        \"State\": {\n",
      "            \"Status\": \"running\",\n",
      "            \"Running\": true,\n",
      "            \"Paused\": false,\n",
      "            \"Restarting\": false,\n",
      "            \"OOMKilled\": false,\n",
      "            \"Dead\": false,\n",
      "            \"Pid\": 1825,\n",
      "            \"ExitCode\": 0,\n",
      "            \"Error\": \"\",\n",
      "            \"StartedAt\": \"2024-11-05T10:35:21.711150631Z\",\n",
      "            \"FinishedAt\": \"0001-01-01T00:00:00Z\"\n",
      "        },\n",
      "        \"Image\": \"sha256:0bb60b6958950c25f7946646eaa6deb9f1db1597d8fbe70d869d67123066dfda\",\n",
      "        \"ResolvConfPath\": \"/var/lib/docker/containers/3eb3a1011d623c9c13c22ba6b0130b34b0db071c5e9f96254a9f76bfe1ffb81d/resolv.conf\",\n",
      "        \"HostnamePath\": \"/var/lib/docker/containers/3eb3a1011d623c9c13c22ba6b0130b34b0db071c5e9f96254a9f76bfe1ffb81d/hostname\",\n",
      "        \"HostsPath\": \"/var/lib/docker/containers/3eb3a1011d623c9c13c22ba6b0130b34b0db071c5e9f96254a9f76bfe1ffb81d/hosts\",\n",
      "        \"LogPath\": \"/var/lib/docker/containers/3eb3a1011d623c9c13c22ba6b0130b34b0db071c5e9f96254a9f76bfe1ffb81d/3eb3a1011d623c9c13c22ba6b0130b34b0db071c5e9f96254a9f76bfe1ffb81d-json.log\",\n",
      "        \"Name\": \"/trivia\",\n",
      "        \"RestartCount\": 0,\n",
      "        \"Driver\": \"overlayfs\",\n",
      "        \"Platform\": \"linux\",\n",
      "        \"MountLabel\": \"\",\n",
      "        \"ProcessLabel\": \"\",\n",
      "        \"AppArmorProfile\": \"\",\n",
      "        \"ExecIDs\": null,\n",
      "        \"HostConfig\": {\n",
      "            \"Binds\": null,\n",
      "            \"ContainerIDFile\": \"\",\n",
      "            \"LogConfig\": {\n",
      "                \"Type\": \"json-file\",\n",
      "                \"Config\": {}\n",
      "            },\n",
      "            \"NetworkMode\": \"bridge\",\n",
      "            \"PortBindings\": {},\n",
      "            \"RestartPolicy\": {\n",
      "                \"Name\": \"no\",\n",
      "                \"MaximumRetryCount\": 0\n",
      "            },\n",
      "            \"AutoRemove\": false,\n",
      "            \"VolumeDriver\": \"\",\n",
      "            \"VolumesFrom\": null,\n",
      "            \"ConsoleSize\": [\n",
      "                24,\n",
      "                80\n",
      "            ],\n",
      "            \"CapAdd\": null,\n",
      "            \"CapDrop\": null,\n",
      "            \"CgroupnsMode\": \"private\",\n",
      "            \"Dns\": [],\n",
      "            \"DnsOptions\": [],\n",
      "            \"DnsSearch\": [],\n",
      "            \"ExtraHosts\": null,\n",
      "            \"GroupAdd\": null,\n",
      "            \"IpcMode\": \"private\",\n",
      "            \"Cgroup\": \"\",\n",
      "            \"Links\": null,\n",
      "            \"OomScoreAdj\": 0,\n",
      "            \"PidMode\": \"\",\n",
      "            \"Privileged\": false,\n",
      "            \"PublishAllPorts\": false,\n",
      "            \"ReadonlyRootfs\": false,\n",
      "            \"SecurityOpt\": null,\n",
      "            \"UTSMode\": \"\",\n",
      "            \"UsernsMode\": \"\",\n",
      "            \"ShmSize\": 67108864,\n",
      "            \"Runtime\": \"runc\",\n",
      "            \"Isolation\": \"\",\n",
      "            \"CpuShares\": 0,\n",
      "            \"Memory\": 0,\n",
      "            \"NanoCpus\": 0,\n",
      "            \"CgroupParent\": \"\",\n",
      "            \"BlkioWeight\": 0,\n",
      "            \"BlkioWeightDevice\": [],\n",
      "            \"BlkioDeviceReadBps\": [],\n",
      "            \"BlkioDeviceWriteBps\": [],\n",
      "            \"BlkioDeviceReadIOps\": [],\n",
      "            \"BlkioDeviceWriteIOps\": [],\n",
      "            \"CpuPeriod\": 0,\n",
      "            \"CpuQuota\": 0,\n",
      "            \"CpuRealtimePeriod\": 0,\n",
      "            \"CpuRealtimeRuntime\": 0,\n",
      "            \"CpusetCpus\": \"\",\n",
      "            \"CpusetMems\": \"\",\n",
      "            \"Devices\": [],\n",
      "            \"DeviceCgroupRules\": null,\n",
      "            \"DeviceRequests\": null,\n",
      "            \"MemoryReservation\": 0,\n",
      "            \"MemorySwap\": 0,\n",
      "            \"MemorySwappiness\": null,\n",
      "            \"OomKillDisable\": null,\n",
      "            \"PidsLimit\": null,\n",
      "            \"Ulimits\": [],\n",
      "            \"CpuCount\": 0,\n",
      "            \"CpuPercent\": 0,\n",
      "            \"IOMaximumIOps\": 0,\n",
      "            \"IOMaximumBandwidth\": 0,\n",
      "            \"MaskedPaths\": [\n",
      "                \"/proc/asound\",\n",
      "                \"/proc/acpi\",\n",
      "                \"/proc/kcore\",\n",
      "                \"/proc/keys\",\n",
      "                \"/proc/latency_stats\",\n",
      "                \"/proc/timer_list\",\n",
      "                \"/proc/timer_stats\",\n",
      "                \"/proc/sched_debug\",\n",
      "                \"/proc/scsi\",\n",
      "                \"/sys/firmware\",\n",
      "                \"/sys/devices/virtual/powercap\"\n",
      "            ],\n",
      "            \"ReadonlyPaths\": [\n",
      "                \"/proc/bus\",\n",
      "                \"/proc/fs\",\n",
      "                \"/proc/irq\",\n",
      "                \"/proc/sys\",\n",
      "                \"/proc/sysrq-trigger\"\n",
      "            ]\n",
      "        },\n",
      "        \"GraphDriver\": {\n",
      "            \"Data\": null,\n",
      "            \"Name\": \"overlayfs\"\n",
      "        },\n",
      "        \"Mounts\": [],\n",
      "        \"Config\": {\n",
      "            \"Hostname\": \"3eb3a1011d62\",\n",
      "            \"Domainname\": \"\",\n",
      "            \"User\": \"\",\n",
      "            \"AttachStdin\": false,\n",
      "            \"AttachStdout\": false,\n",
      "            \"AttachStderr\": false,\n",
      "            \"Tty\": false,\n",
      "            \"OpenStdin\": false,\n",
      "            \"StdinOnce\": false,\n",
      "            \"Env\": [\n",
      "                \"PATH=/usr/local/sbin:/usr/local/bin:/usr/sbin:/usr/bin:/sbin:/bin\"\n",
      "            ],\n",
      "            \"Cmd\": [\n",
      "                \"/bin/sh\",\n",
      "                \"-c\",\n",
      "                \"source script.sh\"\n",
      "            ],\n",
      "            \"Image\": \"fundamentalsofdocker/trivia:ed2\",\n",
      "            \"Volumes\": null,\n",
      "            \"WorkingDir\": \"/app\",\n",
      "            \"Entrypoint\": null,\n",
      "            \"OnBuild\": null,\n",
      "            \"Labels\": {}\n",
      "        },\n",
      "        \"NetworkSettings\": {\n",
      "            \"Bridge\": \"\",\n",
      "            \"SandboxID\": \"6d9a80b1b1af3d5d834c4af2147d93288b33f62c277ae3f2b8ff660e94555d8a\",\n",
      "            \"SandboxKey\": \"/var/run/docker/netns/6d9a80b1b1af\",\n",
      "            \"Ports\": {},\n",
      "            \"HairpinMode\": false,\n",
      "            \"LinkLocalIPv6Address\": \"\",\n",
      "            \"LinkLocalIPv6PrefixLen\": 0,\n",
      "            \"SecondaryIPAddresses\": null,\n",
      "            \"SecondaryIPv6Addresses\": null,\n",
      "            \"EndpointID\": \"4fa0a42a9e4f9fbbaa976e7b2e7c001a207b4c9ba7d7e375804f2ff155c17575\",\n",
      "            \"Gateway\": \"172.17.0.1\",\n",
      "            \"GlobalIPv6Address\": \"\",\n",
      "            \"GlobalIPv6PrefixLen\": 0,\n",
      "            \"IPAddress\": \"172.17.0.2\",\n",
      "            \"IPPrefixLen\": 16,\n",
      "            \"IPv6Gateway\": \"\",\n",
      "            \"MacAddress\": \"02:42:ac:11:00:02\",\n",
      "            \"Networks\": {\n",
      "                \"bridge\": {\n",
      "                    \"IPAMConfig\": null,\n",
      "                    \"Links\": null,\n",
      "                    \"Aliases\": null,\n",
      "                    \"MacAddress\": \"02:42:ac:11:00:02\",\n",
      "                    \"DriverOpts\": null,\n",
      "                    \"NetworkID\": \"6c12aa86d2281ae2cc59f894cb088749e4d638f3fc679396209fb3e7ffd953be\",\n",
      "                    \"EndpointID\": \"4fa0a42a9e4f9fbbaa976e7b2e7c001a207b4c9ba7d7e375804f2ff155c17575\",\n",
      "                    \"Gateway\": \"172.17.0.1\",\n",
      "                    \"IPAddress\": \"172.17.0.2\",\n",
      "                    \"IPPrefixLen\": 16,\n",
      "                    \"IPv6Gateway\": \"\",\n",
      "                    \"GlobalIPv6Address\": \"\",\n",
      "                    \"GlobalIPv6PrefixLen\": 0,\n",
      "                    \"DNSNames\": null\n",
      "                }\n",
      "            }\n",
      "        }\n",
      "    }\n",
      "]\n"
     ]
    }
   ],
   "source": [
    "!docker container inspect trivia"
   ]
  },
  {
   "cell_type": "markdown",
   "id": "007c8799-998e-4e66-9ba7-ea2b91cbd240",
   "metadata": {},
   "source": [
    "Also, we can ***execute*** an arbitrary command inside the running container via `exec`.\n",
    "\n",
    "**Note:** the below two examples has to be run inside Command Prompt:\n",
    "\n",
    "1.\n",
    "```\n",
    "docker container exec -it trivia /bin/sh\n",
    "```\n",
    "2.\n",
    "```\n",
    "docker container exec trivia ps\n",
    "```"
   ]
  },
  {
   "cell_type": "markdown",
   "id": "db96ee60-9557-4124-9e23-030eb438a42b",
   "metadata": {},
   "source": [
    "Now let's remove the container (note that we don't need `--force` option as it's already stopped):"
   ]
  },
  {
   "cell_type": "code",
   "execution_count": 27,
   "id": "eaf3dcc0-ce64-46f5-9ffe-b905d17ac0a3",
   "metadata": {},
   "outputs": [
    {
     "name": "stdout",
     "output_type": "stream",
     "text": [
      "576a24020ffd\n"
     ]
    }
   ],
   "source": [
    "!docker container rm 576a24020ffd"
   ]
  },
  {
   "cell_type": "code",
   "execution_count": 28,
   "id": "d9e27946-ccab-4d9f-9b0e-abd0d232c150",
   "metadata": {},
   "outputs": [
    {
     "name": "stdout",
     "output_type": "stream",
     "text": [
      "CONTAINER ID   IMAGE     COMMAND   CREATED   STATUS    PORTS     NAMES\n"
     ]
    }
   ],
   "source": [
    "!docker container ls -a"
   ]
  },
  {
   "cell_type": "markdown",
   "id": "4032f95e-ae04-4497-93c0-c39be73d279f",
   "metadata": {},
   "source": [
    "In order to wrap up the container section, let's run a web server inside Docker:"
   ]
  },
  {
   "cell_type": "code",
   "execution_count": 44,
   "id": "0333d71e-35f2-40e6-a5b3-21629ed140f6",
   "metadata": {},
   "outputs": [
    {
     "name": "stdout",
     "output_type": "stream",
     "text": [
      "Unable to find image 'nginx:alpine' locally\n",
      "alpine: Pulling from library/nginx\n",
      "\n",
      "\u001b[1Bee71aeeb: Pulling fs layer \n",
      "\u001b[1Bc7406b65: Pulling fs layer \n",
      "\u001b[1B64b3e722: Pulling fs layer \n",
      "\u001b[1B18b1a2c5: Pulling fs layer \n",
      "\u001b[1Bdf5b8f8a: Pulling fs layer \n",
      "\u001b[1B342cad58: Pulling fs layer \n",
      "\u001b[7Bee71aeeb: Download complete MB/15.63MB\u001b[7A\u001b[2K\u001b[7A\u001b[2K\u001b[7A\u001b[2K\u001b[3A\u001b[2K\u001b[6A\u001b[2K\u001b[7A\u001b[2K\u001b[7A\u001b[2K\u001b[7A\u001b[2K\u001b[7A\u001b[2K\u001b[7A\u001b[2K\u001b[7A\u001b[2K\u001b[7A\u001b[2K\u001b[7A\u001b[2K\u001b[7A\u001b[2K\u001b[7A\u001b[2K\u001b[7A\u001b[2K\u001b[7A\u001b[2K\u001b[7A\u001b[2K\u001b[7A\u001b[2K\u001b[7A\u001b[2K\u001b[7A\u001b[2K\u001b[7A\u001b[2KDigest: sha256:2140dad235c130ac861018a4e13a6bc8aea3a35f3a40e20c1b060d51a7efd250\n",
      "Status: Downloaded newer image for nginx:alpine\n",
      "29176eb030b5fe2bab3b9f68a00d350058f742926a405c303e9fe34077429afd\n"
     ]
    }
   ],
   "source": [
    "!docker container run -d --name nginx -p 8080:80 nginx:alpine"
   ]
  },
  {
   "cell_type": "markdown",
   "id": "016ec34d-5461-4f7f-9165-68c5206b47dc",
   "metadata": {},
   "source": [
    "Note that above `-d` is a short form of `--detach`, and `-p 8080:80` maps ports: from 80 inside the container to 8080 on your machine.\n",
    "\n",
    "If you now go to http://localhost:8080, you should see a Nginx welcome page."
   ]
  },
  {
   "cell_type": "markdown",
   "id": "760ae95f-4ac2-4084-9e01-fb4465c68bb7",
   "metadata": {},
   "source": [
    "Now remove the container and check that no other containers remain:"
   ]
  },
  {
   "cell_type": "code",
   "execution_count": 45,
   "id": "b9faf06a-f4cd-4958-a349-9b4170926931",
   "metadata": {},
   "outputs": [
    {
     "name": "stdout",
     "output_type": "stream",
     "text": [
      "nginx\n"
     ]
    }
   ],
   "source": [
    "!docker container rm nginx"
   ]
  },
  {
   "cell_type": "code",
   "execution_count": 46,
   "id": "dc98dd29-90a0-4e0b-a93a-606d5094c6c0",
   "metadata": {},
   "outputs": [
    {
     "name": "stdout",
     "output_type": "stream",
     "text": [
      "CONTAINER ID   IMAGE     COMMAND   CREATED   STATUS    PORTS     NAMES\n"
     ]
    }
   ],
   "source": [
    "!docker container ls -a\n"
   ]
  },
  {
   "cell_type": "markdown",
   "id": "1fc316d7-6cd2-4952-a7c5-72e4c1eae198",
   "metadata": {},
   "source": [
    "## Images\n",
    "\n",
    "Docker images are descriptions of what software needs to be run inside a Docker container. In other words, containers are running instances of images.\n",
    "\n",
    "Inside `pinger` subdir, there is a Dockerfile with the below contents:\n",
    "\n",
    "```\n",
    "FROM alpine:3.17\n",
    "ENTRYPOINT [ \"ping\" ]\n",
    "CMD [ \"-c\", \"3\", \"8.8.8.8\" ]\n",
    "```\n",
    "\n",
    "Each line in the file specifies the steps required to build the image. These steps can also be though of as *layers*.\n",
    "\n",
    "1. We select `alpine:3.17` as the base to start from (this means Alpine Linux version 3.17)\n",
    "2. We specify the command to run upon container startup via `ENTRYPOINT`\n",
    "3. And specify the parameters to the command via `CMD`. The arguments to `CMD` can be overridden on-the-fly when we run the container.\n",
    "  \n",
    "**Note:** it's possible to specify everything inside `CMD`, not using `ENTRYPOINT`. But in that case we will not be able to override the default `CMD`."
   ]
  },
  {
   "cell_type": "markdown",
   "id": "41738d5e-c8dd-425a-acc3-5b71ac8cd10b",
   "metadata": {},
   "source": [
    "We can now ***build*** the image via the below command:"
   ]
  },
  {
   "cell_type": "code",
   "execution_count": 27,
   "id": "acc7b138-1e20-4e04-bb49-d3a52b7c46bb",
   "metadata": {},
   "outputs": [
    {
     "name": "stdout",
     "output_type": "stream",
     "text": [
      "\u001b[1A\u001b[1B\u001b[0G\u001b[?25l[+] Building 0.0s (0/1)                                    docker:desktop-linux\n",
      "\u001b[?25h\u001b[1A\u001b[0G\u001b[?25l[+] Building 0.2s (1/2)                                    docker:desktop-linux\n",
      "\u001b[34m => [internal] load build definition from Dockerfile                       0.0s\n",
      "\u001b[0m\u001b[34m => => transferring dockerfile: 105B                                       0.0s\n",
      "\u001b[0m => [internal] load metadata for docker.io/library/alpine:3.17             0.2s\n",
      "\u001b[?25h\u001b[1A\u001b[1A\u001b[1A\u001b[1A\u001b[0G\u001b[?25l[+] Building 0.3s (1/2)                                    docker:desktop-linux\n",
      "\u001b[34m => [internal] load build definition from Dockerfile                       0.0s\n",
      "\u001b[0m\u001b[34m => => transferring dockerfile: 105B                                       0.0s\n",
      "\u001b[0m => [internal] load metadata for docker.io/library/alpine:3.17             0.3s\n",
      "\u001b[?25h\u001b[1A\u001b[1A\u001b[1A\u001b[1A\u001b[0G\u001b[?25l[+] Building 0.5s (1/2)                                    docker:desktop-linux\n",
      "\u001b[34m => [internal] load build definition from Dockerfile                       0.0s\n",
      "\u001b[0m\u001b[34m => => transferring dockerfile: 105B                                       0.0s\n",
      "\u001b[0m => [internal] load metadata for docker.io/library/alpine:3.17             0.5s\n",
      "\u001b[?25h\u001b[1A\u001b[1A\u001b[1A\u001b[1A\u001b[0G\u001b[?25l[+] Building 0.6s (2/2)                                    docker:desktop-linux\n",
      "\u001b[34m => [internal] load build definition from Dockerfile                       0.0s\n",
      "\u001b[0m\u001b[34m => => transferring dockerfile: 105B                                       0.0s\n",
      "\u001b[0m\u001b[34m => [internal] load metadata for docker.io/library/alpine:3.17             0.5s\n",
      "\u001b[0m\u001b[?25h\u001b[1A\u001b[1A\u001b[1A\u001b[1A\u001b[0G\u001b[?25l[+] Building 0.6s (5/5) FINISHED                           docker:desktop-linux\n",
      "\u001b[34m => [internal] load build definition from Dockerfile                       0.0s\n",
      "\u001b[0m\u001b[34m => => transferring dockerfile: 105B                                       0.0s\n",
      "\u001b[0m\u001b[34m => [internal] load metadata for docker.io/library/alpine:3.17             0.5s\n",
      "\u001b[0m\u001b[34m => [internal] load .dockerignore                                          0.0s\n",
      "\u001b[0m\u001b[34m => => transferring context: 2B                                            0.0s\n",
      "\u001b[0m\u001b[34m => CACHED [1/1] FROM docker.io/library/alpine:3.17@sha256:8fc3dacfb6d69d  0.0s\n",
      "\u001b[0m\u001b[34m => => resolve docker.io/library/alpine:3.17@sha256:8fc3dacfb6d69da8d44e4  0.0s\n",
      "\u001b[0m\u001b[34m => exporting to image                                                     0.0s\n",
      "\u001b[0m\u001b[34m => => exporting layers                                                    0.0s\n",
      "\u001b[0m\u001b[34m => => exporting manifest sha256:383953e0a21daa0ef49e15ccb95b16baf34206b1  0.0s\n",
      "\u001b[0m\u001b[34m => => exporting config sha256:6af8d3801a6161970741b5d861640886c38e9f0eb7  0.0s\n",
      "\u001b[0m\u001b[34m => => exporting attestation manifest sha256:f004624c2b5b8f6ad6f7b7438d77  0.0s\n",
      "\u001b[0m\u001b[34m => => exporting manifest list sha256:46ffb548a5964a6c10471dc88be75b3aa76  0.0s\n",
      "\u001b[0m\u001b[34m => => naming to docker.io/library/img_pinger:latest                       0.0s\n",
      "\u001b[0m\u001b[34m => => unpacking to docker.io/library/img_pinger:latest                    0.0s\n",
      "\u001b[0m\u001b[?25h\u001b[1m\n",
      "What's next:\u001b[0m\n",
      "    View a summary of image vulnerabilities and recommendations → \u001b[36mdocker scout quickview \u001b[0m\n"
     ]
    }
   ],
   "source": [
    "!docker image build -t img_pinger pinger"
   ]
  },
  {
   "cell_type": "markdown",
   "id": "a9b9e458-0004-425a-8e75-f472dc697914",
   "metadata": {},
   "source": [
    "In the above command, `-t` option specifies the **name** for the image.\n",
    "\n",
    "Last argument, `pinger`, specifies the folder in which to look for the Dockerfile. Alternatively, you can use Windows Command Prompt and `cd` to `pinger` directory and run the build from there. In that case, the command will look like this:\n",
    "  ```\n",
    "  !docker image build -t img_pinger .\n",
    "  ```\n",
    "  The `.` (dot) stands for current directory."
   ]
  },
  {
   "cell_type": "markdown",
   "id": "953c4fe6-6cde-4965-8343-5b57ec15daf5",
   "metadata": {},
   "source": [
    "We can run the image we've just built via:"
   ]
  },
  {
   "cell_type": "code",
   "execution_count": 28,
   "id": "f0338a0a-6a4e-4640-8d90-5d12f72ab0a3",
   "metadata": {},
   "outputs": [
    {
     "name": "stdout",
     "output_type": "stream",
     "text": [
      "PING 8.8.8.8 (8.8.8.8): 56 data bytes\n",
      "64 bytes from 8.8.8.8: seq=0 ttl=63 time=24.228 ms\n",
      "64 bytes from 8.8.8.8: seq=1 ttl=63 time=30.638 ms\n",
      "64 bytes from 8.8.8.8: seq=2 ttl=63 time=26.928 ms\n",
      "\n",
      "--- 8.8.8.8 ping statistics ---\n",
      "3 packets transmitted, 3 packets received, 0% packet loss\n",
      "round-trip min/avg/max = 24.228/27.264/30.638 ms\n"
     ]
    }
   ],
   "source": [
    "!docker container run --rm img_pinger"
   ]
  },
  {
   "cell_type": "markdown",
   "id": "24e7cc42-34cb-43b1-bf7d-d555cd8d0cd0",
   "metadata": {},
   "source": [
    "The `--rm` option in the above command means that we should immediately delete the container after stopping."
   ]
  },
  {
   "cell_type": "markdown",
   "id": "15a9f7fd-5c14-40b1-8665-f3c4d5db8ca8",
   "metadata": {},
   "source": [
    "We can also provide custom arguments to the `ping` `ENTRYPOINT`, as discussed above:"
   ]
  },
  {
   "cell_type": "code",
   "execution_count": 48,
   "id": "04c5a16d-1f5d-4301-9364-943413048687",
   "metadata": {},
   "outputs": [
    {
     "name": "stdout",
     "output_type": "stream",
     "text": [
      "PING 127.0.0.1 (127.0.0.1): 56 data bytes\n",
      "64 bytes from 127.0.0.1: seq=0 ttl=64 time=0.035 ms\n",
      "64 bytes from 127.0.0.1: seq=1 ttl=64 time=0.138 ms\n",
      "64 bytes from 127.0.0.1: seq=2 ttl=64 time=0.105 ms\n",
      "64 bytes from 127.0.0.1: seq=3 ttl=64 time=0.137 ms\n",
      "64 bytes from 127.0.0.1: seq=4 ttl=64 time=0.136 ms\n",
      "\n",
      "--- 127.0.0.1 ping statistics ---\n",
      "5 packets transmitted, 5 packets received, 0% packet loss\n",
      "round-trip min/avg/max = 0.035/0.110/0.138 ms\n"
     ]
    }
   ],
   "source": [
    "!docker container run --rm -it img_pinger -w 5 127.0.0.1"
   ]
  },
  {
   "cell_type": "markdown",
   "id": "f1a5e7d7-0143-4e5a-85bc-160e0304a76f",
   "metadata": {},
   "source": [
    "Note that thanks to `--rm`, we don't have any containers lying around after stopping:"
   ]
  },
  {
   "cell_type": "code",
   "execution_count": 49,
   "id": "2ddbb31c-3827-431b-85be-ad8cbc8cd364",
   "metadata": {},
   "outputs": [
    {
     "name": "stdout",
     "output_type": "stream",
     "text": [
      "CONTAINER ID   IMAGE     COMMAND   CREATED   STATUS    PORTS     NAMES\n"
     ]
    }
   ],
   "source": [
    "!docker container ls -a"
   ]
  },
  {
   "cell_type": "markdown",
   "id": "4ef151e9-46b0-42b1-a098-b657f3885583",
   "metadata": {},
   "source": [
    "Currently downloaded (or built) images can be viewed via `ls` subcommand:"
   ]
  },
  {
   "cell_type": "code",
   "execution_count": 50,
   "id": "d915a53d-fe0d-4fcf-a9c5-104593b62a0c",
   "metadata": {},
   "outputs": [
    {
     "name": "stdout",
     "output_type": "stream",
     "text": [
      "REPOSITORY                    TAG       IMAGE ID       CREATED       SIZE\n",
      "quay.io/minio/minio           latest    9535594ad412   3 weeks ago   217MB\n",
      "nginx                         alpine    2140dad235c1   4 weeks ago   76.7MB\n",
      "pinger                        latest    60cf059f4580   8 weeks ago   11.4MB\n",
      "alpine                        latest    beefdbd8a1da   8 weeks ago   13.6MB\n",
      "centos                        latest    a27fd8080b51   3 years ago   380MB\n",
      "fundamentalsofdocker/trivia   ed2       0bb60b695895   5 years ago   13.1MB\n"
     ]
    }
   ],
   "source": [
    "!docker image ls"
   ]
  },
  {
   "cell_type": "markdown",
   "id": "687b3ed8-9ae4-4fa6-9cd3-f7ca1edeadc0",
   "metadata": {},
   "source": [
    "Similarly to how `rm` behaves for containers, we can remove images as well:"
   ]
  },
  {
   "cell_type": "code",
   "execution_count": 51,
   "id": "8a492bc3-1480-4e0c-96b3-8042c9daba41",
   "metadata": {},
   "outputs": [
    {
     "name": "stdout",
     "output_type": "stream",
     "text": [
      "Untagged: centos:latest\n",
      "Deleted: sha256:a27fd8080b517143cbbbab9dfb7c8571c40d67d534bbdee55bd6c473f432b177\n"
     ]
    }
   ],
   "source": [
    "!docker image rm centos"
   ]
  },
  {
   "cell_type": "code",
   "execution_count": 52,
   "id": "0dc9feb6-c286-44f6-ae38-4a0fd3c3ce7d",
   "metadata": {},
   "outputs": [
    {
     "name": "stdout",
     "output_type": "stream",
     "text": [
      "REPOSITORY                    TAG       IMAGE ID       CREATED       SIZE\n",
      "quay.io/minio/minio           latest    9535594ad412   3 weeks ago   217MB\n",
      "nginx                         alpine    2140dad235c1   4 weeks ago   76.7MB\n",
      "pinger                        latest    60cf059f4580   8 weeks ago   11.4MB\n",
      "alpine                        latest    beefdbd8a1da   8 weeks ago   13.6MB\n",
      "fundamentalsofdocker/trivia   ed2       0bb60b695895   5 years ago   13.1MB\n"
     ]
    }
   ],
   "source": [
    "!docker image ls"
   ]
  },
  {
   "cell_type": "markdown",
   "id": "1fe3b656-3d22-49ec-a88e-ce4eb5dec5c9",
   "metadata": {},
   "source": [
    "### Multi-stage image builds\n",
    "\n",
    "Consider the below, much more complicated, Dockerfile:\n",
    "```\n",
    "FROM alpine:3.12 AS build\n",
    "RUN apk update && \\\n",
    "apk add --update alpine-sdk\n",
    "RUN mkdir /app\n",
    "WORKDIR /app\n",
    "COPY . /app\n",
    "RUN mkdir bin\n",
    "RUN gcc -Wall hello.c -o bin/hello\n",
    "\n",
    "FROM alpine:3.12\n",
    "COPY --from=build /app/bin/hello /app/hello\n",
    "CMD /app/hello\n",
    "```"
   ]
  },
  {
   "cell_type": "markdown",
   "id": "1181a1cd-d6fb-4604-a532-2d421d54e682",
   "metadata": {},
   "source": [
    "It's located under `hello_c` subdir.\n",
    "\n",
    "This file describes a two-stage build (it has 2 `FROM` directives).\n",
    "\n",
    "During first stage:\n",
    "1. We use `alpine:3.12` as the base image, and name it `build`.\n",
    "2. Then, `RUN` a package update command that will install the C compiler.\n",
    "3. Then `RUN mkdir /app` will create a directory inside the image.\n",
    "4. `WORKDIR /app` will switch current build dir to `/app/`, so that all subsequent commands like `RUN` or `COPY` are executed from within that dir.\n",
    "5. `COPY . /app` will copy the files from `.` on your machine (the folder in which Dockerfile is located, `hello_c`) to `/app` inside the image.\n",
    "6. `RUN mkdir bin` will create additional dir named `bin`. As we are inside `/app` WORKDIR now, the resulting dir will be `/app/bin`\n",
    "7. `RUN gcc -Wall hello.c -o bin/hello` will compile `hello.c` and put the result into `/app/bin`.\n",
    "\n",
    "Now, during second stage:\n",
    "1. We use `alpine:3.12` as the base image.\n",
    "2. We use `COPY --from=build` so that to tell Docker that we are copying not from our machine, but from the temporary `build` from stage 1.\n",
    "3. Then we use `CMD` to specify which command should run upon container startup.\n",
    "\n",
    "We can build the Dockerfile via `docker image build -t hello-c .` from within `hello_c` subdirectory."
   ]
  },
  {
   "cell_type": "markdown",
   "id": "2d9ee908-872b-4fe1-bba6-537fd5a45e68",
   "metadata": {},
   "source": [
    "Now we can see the image we just built via `ls` subcommand:"
   ]
  },
  {
   "cell_type": "code",
   "execution_count": 30,
   "id": "fa8e561e-0586-4301-ac6a-2f8cde58e981",
   "metadata": {},
   "outputs": [
    {
     "name": "stdout",
     "output_type": "stream",
     "text": [
      "REPOSITORY       TAG       IMAGE ID       CREATED          SIZE\n",
      "hello-c          latest    4254b85ed709   28 seconds ago   8.72MB\n",
      "redis-web        latest    353a1799536c   6 days ago       313MB\n",
      "new-web          latest    fbe8c83422a0   6 days ago       313MB\n",
      "redis            alpine    f9f38fd31d4d   6 weeks ago      70.7MB\n",
      "postgres         alpine    38a37cc842c0   7 weeks ago      370MB\n",
      "dpage/pgadmin4   latest    585350593e8b   2 months ago     732MB\n",
      "img_pinger       latest    46ffb548a596   2 months ago     11.4MB\n",
      "pinger           latest    9d7e73baada8   2 months ago     11.4MB\n",
      "hello-world      latest    305243c73457   18 months ago    21kB\n"
     ]
    }
   ],
   "source": [
    "!docker image ls"
   ]
  },
  {
   "cell_type": "markdown",
   "id": "cc0943f9-9cdb-429c-a15d-bafeeb0ee3c0",
   "metadata": {},
   "source": [
    "And we can run it via:"
   ]
  },
  {
   "cell_type": "code",
   "execution_count": 31,
   "id": "cb593f16-3435-4ab9-a3a2-6023351afd4c",
   "metadata": {},
   "outputs": [
    {
     "name": "stdout",
     "output_type": "stream",
     "text": [
      "Hello, world!\n"
     ]
    }
   ],
   "source": [
    "!docker container run hello-c"
   ]
  },
  {
   "cell_type": "markdown",
   "id": "4885a16a-d559-434f-a7e1-ac5fdc3ecef1",
   "metadata": {},
   "source": [
    "Now remove it:"
   ]
  },
  {
   "cell_type": "code",
   "execution_count": 34,
   "id": "cfbcf60b-22f3-462f-8e97-567ffc84b8fa",
   "metadata": {},
   "outputs": [
    {
     "name": "stdout",
     "output_type": "stream",
     "text": [
      "Untagged: hello-c:latest\n"
     ]
    }
   ],
   "source": [
    "!docker image rm -f hello-c"
   ]
  },
  {
   "cell_type": "code",
   "execution_count": 36,
   "id": "8947f5bb-7002-45e0-adf4-88c6d3de7673",
   "metadata": {},
   "outputs": [
    {
     "name": "stdout",
     "output_type": "stream",
     "text": [
      "REPOSITORY       TAG       IMAGE ID       CREATED              SIZE\n",
      "<none>           <none>    4254b85ed709   About a minute ago   8.72MB\n",
      "new-web          latest    fbe8c83422a0   6 days ago           313MB\n",
      "redis-web        latest    353a1799536c   6 days ago           313MB\n",
      "redis            alpine    f9f38fd31d4d   6 weeks ago          70.7MB\n",
      "postgres         alpine    38a37cc842c0   7 weeks ago          370MB\n",
      "dpage/pgadmin4   latest    585350593e8b   2 months ago         732MB\n",
      "img_pinger       latest    46ffb548a596   2 months ago         11.4MB\n",
      "pinger           latest    9d7e73baada8   2 months ago         11.4MB\n",
      "hello-world      latest    305243c73457   18 months ago        21kB\n"
     ]
    }
   ],
   "source": [
    "!docker image ls"
   ]
  },
  {
   "cell_type": "markdown",
   "id": "b6d18242-70e1-4245-aa4e-c0619aaf5113",
   "metadata": {},
   "source": [
    "**Note:** image names can use a short form, or be fully qualified:\n",
    "```\n",
    "<registry URL>/<User or Org>/<name>:<tag>\n",
    "```\n",
    "\n",
    "In majority of cases, `registry URL` is hub.docker.com."
   ]
  },
  {
   "cell_type": "markdown",
   "id": "99f91d3a-8c9b-41b9-b0c9-3e5dadc35e4c",
   "metadata": {},
   "source": [
    "### Example python env"
   ]
  },
  {
   "cell_type": "markdown",
   "id": "0032f804-3589-4a4b-8386-69750b60723a",
   "metadata": {},
   "source": [
    "Consider the below Dockerfile:\n",
    "\n",
    "```\n",
    "FROM python:3.13\n",
    "\n",
    "RUN pip install jupyter\n",
    "\n",
    "RUN pip install numpy\n",
    "\n",
    "EXPOSE 8888\n",
    "\n",
    "CMD [\"jupyter\", \"notebook\", \"--ip=0.0.0.0\", \"--no-browser\", \"--allow-root\"]\n",
    "```\n",
    "\n",
    "This will install jupyter and numpy, and execute `jupyter notebook` upon container startup."
   ]
  },
  {
   "cell_type": "markdown",
   "id": "f6473ed0-99cc-4b74-8b30-5155e1d85b72",
   "metadata": {},
   "source": [
    "## Volumes\n",
    "\n",
    "The purpose of volumes is a long-term storage of data inside a container. Once container is removed, its data are gone. Volumes exist independently of containers.\n",
    "\n",
    "For instance, we can try creating a `sample.txt` file inside a container:"
   ]
  },
  {
   "cell_type": "code",
   "execution_count": 37,
   "id": "8e95ef5d-e5b5-4f83-b631-6978adf9840e",
   "metadata": {},
   "outputs": [
    {
     "name": "stdout",
     "output_type": "stream",
     "text": [
      "Unable to find image 'alpine:latest' locally\n",
      "latest: Pulling from library/alpine\n",
      "Digest: sha256:1e42bbe2508154c9126d48c2b8a75420c3544343bf86fd041fb7527e017a4b4a\n",
      "Status: Downloaded newer image for alpine:latest\n"
     ]
    }
   ],
   "source": [
    "!docker container run --name demo alpine /bin/sh -c 'echo \"This is a test\" > sample.txt'"
   ]
  },
  {
   "cell_type": "markdown",
   "id": "72a0e1a5-a1ed-4c01-8fc4-cc4c698b6d16",
   "metadata": {},
   "source": [
    "Check the difference between base image (alpine) and current instance of the container:"
   ]
  },
  {
   "cell_type": "code",
   "execution_count": 38,
   "id": "d94ba9bb-a34d-4188-bbdd-3f1a8400ebea",
   "metadata": {},
   "outputs": [
    {
     "name": "stdout",
     "output_type": "stream",
     "text": [
      "A /sample.txt\n"
     ]
    }
   ],
   "source": [
    "!docker container diff demo"
   ]
  },
  {
   "cell_type": "markdown",
   "id": "80a3c65f-84de-4ef4-adbe-1cd80c2ee1dc",
   "metadata": {},
   "source": [
    "The file is there, but once container is removed, it will be gone. This is where volumes help.\n",
    "\n",
    "Create a volume via:"
   ]
  },
  {
   "cell_type": "code",
   "execution_count": 60,
   "id": "1b50eab6-0a8a-4d4c-b379-c16be50c30f7",
   "metadata": {},
   "outputs": [
    {
     "name": "stdout",
     "output_type": "stream",
     "text": [
      "sample\n"
     ]
    }
   ],
   "source": [
    "!docker volume create sample"
   ]
  },
  {
   "cell_type": "markdown",
   "id": "3ca28137-f311-4402-b5b4-20192397b2ae",
   "metadata": {},
   "source": [
    "Inspect it:"
   ]
  },
  {
   "cell_type": "code",
   "execution_count": 61,
   "id": "d919d63b-b8fb-4929-b3ff-328a3bd61ff2",
   "metadata": {},
   "outputs": [
    {
     "name": "stdout",
     "output_type": "stream",
     "text": [
      "[\n",
      "    {\n",
      "        \"CreatedAt\": \"2024-11-05T11:47:53Z\",\n",
      "        \"Driver\": \"local\",\n",
      "        \"Labels\": null,\n",
      "        \"Mountpoint\": \"/var/lib/docker/volumes/sample/_data\",\n",
      "        \"Name\": \"sample\",\n",
      "        \"Options\": null,\n",
      "        \"Scope\": \"local\"\n",
      "    }\n",
      "]\n"
     ]
    }
   ],
   "source": [
    "!docker volume inspect sample"
   ]
  },
  {
   "cell_type": "markdown",
   "id": "48728cf5-2e1c-4427-bd58-01b831f423b6",
   "metadata": {},
   "source": [
    "Now we can run containers, attach them to the volume, and create some files:\n",
    "```\n",
    "docker container run --name test -it -v sample:/data alpine /bin/sh\n",
    "```\n",
    "\n",
    "We attach volumes via `-v` option. In this case, `sample` volume is mapped to `/data` dir inside the container.\n",
    "\n",
    "**Note:** the `-it` means that the container run will run in interactive mode. As Jupyter notebook does not support it, the above command has to be run from the Command Prompt."
   ]
  },
  {
   "cell_type": "markdown",
   "id": "e9b36ad4-e3ca-44dd-ad16-5441c0e2aca1",
   "metadata": {},
   "source": [
    "Now remove the container:"
   ]
  },
  {
   "cell_type": "code",
   "execution_count": 62,
   "id": "a1269380-80c0-486c-86e2-24d5ac86dd6a",
   "metadata": {},
   "outputs": [
    {
     "name": "stdout",
     "output_type": "stream",
     "text": [
      "test\n"
     ]
    }
   ],
   "source": [
    "!docker container rm test"
   ]
  },
  {
   "cell_type": "markdown",
   "id": "6c0e2258-e410-4f33-ae41-4b59f7687c92",
   "metadata": {},
   "source": [
    "And create the same container again, attached to the same `sample` volume. The files you've created during first run should still be there."
   ]
  },
  {
   "cell_type": "markdown",
   "id": "c8573472-6118-4754-a1e1-4b3d028ee624",
   "metadata": {},
   "source": [
    "Now remove the `sample` volume:"
   ]
  },
  {
   "cell_type": "code",
   "execution_count": 63,
   "id": "60dfa401-fbed-4dd1-8500-935e5d0894a1",
   "metadata": {},
   "outputs": [
    {
     "name": "stdout",
     "output_type": "stream",
     "text": [
      "sample\n"
     ]
    }
   ],
   "source": [
    "!docker volume rm sample"
   ]
  },
  {
   "cell_type": "markdown",
   "id": "f0e50f85-8d70-4a08-bc73-8bbd95b8beb8",
   "metadata": {},
   "source": [
    "We can also map local dirs to container dirs, by providing their paths instead of the volume name after `-v` option:\n",
    "```\n",
    "docker container run -d --name my-site -v local/html:/usr/share/nginx/html -p 8080:80 nginx:alpine\n",
    "```"
   ]
  },
  {
   "cell_type": "markdown",
   "id": "b76ff45b-88e3-4cff-8313-4a89dea5564c",
   "metadata": {},
   "source": [
    "## Networks\n",
    "\n",
    "Docker specifies a `container networking model`. This model defines **software defined networks**, which can be thought of as a way to arrange communications between multiple containers of a single application. Each container, moreover, runs in its own **network namespace** or **sandbox**.\n"
   ]
  },
  {
   "cell_type": "markdown",
   "id": "daf09d17-e5bd-4bb9-9da0-e9d5622e2a32",
   "metadata": {},
   "source": [
    "You can view current networks via `network ls` command:"
   ]
  },
  {
   "cell_type": "code",
   "execution_count": 45,
   "id": "bf01d473-4530-405e-9cec-7bab2018192b",
   "metadata": {},
   "outputs": [
    {
     "name": "stdout",
     "output_type": "stream",
     "text": [
      "NETWORK ID     NAME      DRIVER    SCOPE\n",
      "8d845304bdba   bridge    bridge    local\n",
      "a44d5472c247   host      host      local\n",
      "33c7de9853f4   none      null      local\n"
     ]
    }
   ],
   "source": [
    "!docker network ls"
   ]
  },
  {
   "cell_type": "markdown",
   "id": "76c5125b-754c-43c6-a76c-964d4c7e2531",
   "metadata": {},
   "source": [
    "By default, Docker creates 3 networks: **bridge**, **host**, and **none**.\n",
    "\n",
    "The **bridge** network is the default network that containers use."
   ]
  },
  {
   "cell_type": "markdown",
   "id": "c68ba689-376b-4384-b1e3-cbc3ccf00e35",
   "metadata": {},
   "source": [
    "We can inspect it:"
   ]
  },
  {
   "cell_type": "code",
   "execution_count": 2,
   "id": "436819b7-566a-4d88-a893-41f357ff3e90",
   "metadata": {},
   "outputs": [
    {
     "name": "stdout",
     "output_type": "stream",
     "text": [
      "[\n",
      "    {\n",
      "        \"Name\": \"bridge\",\n",
      "        \"Id\": \"f8fae2d5aaa07ed9fb7a8a13c0db9f4f29a67947c62897eb1ac3dfb0f86c1929\",\n",
      "        \"Created\": \"2024-11-12T11:39:44.2291835Z\",\n",
      "        \"Scope\": \"local\",\n",
      "        \"Driver\": \"bridge\",\n",
      "        \"EnableIPv6\": false,\n",
      "        \"IPAM\": {\n",
      "            \"Driver\": \"default\",\n",
      "            \"Options\": null,\n",
      "            \"Config\": [\n",
      "                {\n",
      "                    \"Subnet\": \"172.17.0.0/16\",\n",
      "                    \"Gateway\": \"172.17.0.1\"\n",
      "                }\n",
      "            ]\n",
      "        },\n",
      "        \"Internal\": false,\n",
      "        \"Attachable\": false,\n",
      "        \"Ingress\": false,\n",
      "        \"ConfigFrom\": {\n",
      "            \"Network\": \"\"\n",
      "        },\n",
      "        \"ConfigOnly\": false,\n",
      "        \"Containers\": {},\n",
      "        \"Options\": {\n",
      "            \"com.docker.network.bridge.default_bridge\": \"true\",\n",
      "            \"com.docker.network.bridge.enable_icc\": \"true\",\n",
      "            \"com.docker.network.bridge.enable_ip_masquerade\": \"true\",\n",
      "            \"com.docker.network.bridge.host_binding_ipv4\": \"0.0.0.0\",\n",
      "            \"com.docker.network.bridge.name\": \"docker0\",\n",
      "            \"com.docker.network.driver.mtu\": \"65535\"\n",
      "        },\n",
      "        \"Labels\": {}\n",
      "    }\n",
      "]\n"
     ]
    }
   ],
   "source": [
    "!docker network inspect bridge"
   ]
  },
  {
   "cell_type": "markdown",
   "id": "572cf112-fc92-47d4-be6f-ad4b987ba527",
   "metadata": {},
   "source": [
    "Pay attention to IPAM node: `IP address management`. This specifies which addresses will be assigned to containers using this network.\n",
    "\n",
    "These addresses are local to the network your machine is running inside of, e.g., your WiFi router network."
   ]
  },
  {
   "cell_type": "markdown",
   "id": "ad42fe1a-c978-4a6c-b131-706511def1e2",
   "metadata": {},
   "source": [
    "Create a new network:"
   ]
  },
  {
   "cell_type": "code",
   "execution_count": 46,
   "id": "b5089c79-aa3c-492b-b8e6-96b85f13947c",
   "metadata": {},
   "outputs": [
    {
     "name": "stdout",
     "output_type": "stream",
     "text": [
      "f282c4b4cbe2ea77d200f1aea870e07dac85300d6c9adb7d0807a50ba60d14ef\n"
     ]
    }
   ],
   "source": [
    "!docker network create --driver bridge sample-net"
   ]
  },
  {
   "cell_type": "markdown",
   "id": "598e440e-61d4-4613-b8b3-20cc4855aaf0",
   "metadata": {},
   "source": [
    "And check which subnet it gets assigned:"
   ]
  },
  {
   "cell_type": "code",
   "execution_count": null,
   "id": "690b2f02-d335-4142-890f-0c350e8a400d",
   "metadata": {},
   "outputs": [],
   "source": [
    "!docker network inspect sample-net | grep Subnet"
   ]
  },
  {
   "cell_type": "markdown",
   "id": "5b703a76-84c2-401e-8846-b56f98238423",
   "metadata": {},
   "source": [
    "You can provide a custom subnet when creating a network:"
   ]
  },
  {
   "cell_type": "markdown",
   "id": "87242683-a30e-4e18-9e23-8288ddb59d6d",
   "metadata": {},
   "source": [
    "!docker network create  --subnet \"11.11.0.0/16\" test-subnet"
   ]
  },
  {
   "cell_type": "code",
   "execution_count": 8,
   "id": "74c4eef9-263b-40b9-bde2-4aebf9e72901",
   "metadata": {},
   "outputs": [
    {
     "data": {
      "text/plain": [
       "['                    \"Subnet\": \"11.11.0.0/16\"']"
      ]
     },
     "execution_count": 8,
     "metadata": {},
     "output_type": "execute_result"
    }
   ],
   "source": [
    "!!docker network inspect test-subnet | grep Subnet"
   ]
  },
  {
   "cell_type": "markdown",
   "id": "15c12de7-ff05-4d75-8b61-de8949d75bca",
   "metadata": {},
   "source": [
    "Now let's run a couple of containers and check IP addresses they get:\n",
    "\n",
    "`docker container run --name c1 -it --rm alpine:latest /bin/sh`\n",
    "\n",
    "and inside the container:\n",
    "```\n",
    "/ # ip addr show eth0\n",
    "21: eth0@if22: <BROADCAST,MULTICAST,UP,LOWER_UP,M-DOWN> mtu 65535 qdisc noqueue state UP\n",
    "    link/ether 02:42:ac:11:00:02 brd ff:ff:ff:ff:ff:ff\n",
    "    inet 172.17.0.2/16 brd 172.17.255.255 scope global eth0\n",
    "       valid_lft forever preferred_lft forever\n",
    "```"
   ]
  },
  {
   "cell_type": "markdown",
   "id": "f207356d-ab8b-406e-bca8-2b814d8b9c2a",
   "metadata": {},
   "source": [
    "From outside:"
   ]
  },
  {
   "cell_type": "code",
   "execution_count": 10,
   "id": "6662662c-d3b7-4f41-a5fd-db6f57bbcc3f",
   "metadata": {},
   "outputs": [
    {
     "name": "stdout",
     "output_type": "stream",
     "text": [
      "            \"SecondaryIPAddresses\": null,\n",
      "            \"IPAddress\": \"172.17.0.2\",\n",
      "                    \"IPAddress\": \"172.17.0.2\",\n"
     ]
    }
   ],
   "source": [
    "!docker container inspect c1 | grep IPAddress"
   ]
  },
  {
   "cell_type": "markdown",
   "id": "d3d04d6f-bd02-49c1-bfce-3b129bd720f8",
   "metadata": {},
   "source": [
    "And another container:"
   ]
  },
  {
   "cell_type": "code",
   "execution_count": 11,
   "id": "7613ab5e-1ed6-4d6e-abcf-9920f0af2aad",
   "metadata": {},
   "outputs": [
    {
     "name": "stdout",
     "output_type": "stream",
     "text": [
      "691dab6d3f35e5f220a89950b7596683acae06dc5ddf7b0594d15269a56297ef\n"
     ]
    }
   ],
   "source": [
    "!docker container run --name c2 -d --rm alpine:latest ping 127.0.0.1"
   ]
  },
  {
   "cell_type": "markdown",
   "id": "53dfe065-461a-4baf-b36a-812bbe750a76",
   "metadata": {},
   "source": [
    "Check its network:"
   ]
  },
  {
   "cell_type": "code",
   "execution_count": 12,
   "id": "c48ca3e4-2f31-47e6-b14c-fa6c3731b863",
   "metadata": {},
   "outputs": [
    {
     "name": "stdout",
     "output_type": "stream",
     "text": [
      "            \"SecondaryIPAddresses\": null,\n",
      "            \"IPAddress\": \"172.17.0.3\",\n",
      "                    \"IPAddress\": \"172.17.0.3\",\n"
     ]
    }
   ],
   "source": [
    "!docker container inspect c2 | grep IPAddress"
   ]
  },
  {
   "cell_type": "markdown",
   "id": "fcc1ae5d-3d3e-4a69-8df3-c7cf59418e26",
   "metadata": {},
   "source": [
    "And now, if we inspect the network, we'll see those containers attached (recall that `bridge` is the default network):"
   ]
  },
  {
   "cell_type": "code",
   "execution_count": 13,
   "id": "1a9f0939-b5f2-441c-8f57-4f5ad2bb61e9",
   "metadata": {},
   "outputs": [
    {
     "name": "stdout",
     "output_type": "stream",
     "text": [
      "[\n",
      "    {\n",
      "        \"Name\": \"bridge\",\n",
      "        \"Id\": \"80f2302e3302f74de65281dc290cf71acf13634784830883436cb072ab9ac294\",\n",
      "        \"Created\": \"2024-11-12T12:22:30.525464791Z\",\n",
      "        \"Scope\": \"local\",\n",
      "        \"Driver\": \"bridge\",\n",
      "        \"EnableIPv6\": false,\n",
      "        \"IPAM\": {\n",
      "            \"Driver\": \"default\",\n",
      "            \"Options\": null,\n",
      "            \"Config\": [\n",
      "                {\n",
      "                    \"Subnet\": \"172.17.0.0/16\",\n",
      "                    \"Gateway\": \"172.17.0.1\"\n",
      "                }\n",
      "            ]\n",
      "        },\n",
      "        \"Internal\": false,\n",
      "        \"Attachable\": false,\n",
      "        \"Ingress\": false,\n",
      "        \"ConfigFrom\": {\n",
      "            \"Network\": \"\"\n",
      "        },\n",
      "        \"ConfigOnly\": false,\n",
      "        \"Containers\": {\n",
      "            \"691dab6d3f35e5f220a89950b7596683acae06dc5ddf7b0594d15269a56297ef\": {\n",
      "                \"Name\": \"c2\",\n",
      "                \"EndpointID\": \"d11763fcf4b72cf4af8c1fb5f31c5ce3966de61c96791db1e9b2adf3c547bd0f\",\n",
      "                \"MacAddress\": \"02:42:ac:11:00:03\",\n",
      "                \"IPv4Address\": \"172.17.0.3/16\",\n",
      "                \"IPv6Address\": \"\"\n",
      "            },\n",
      "            \"6e5fad01bb8b9a955b2fc215bf8eb724471e2e7a2fcaf662ea099d15abe22302\": {\n",
      "                \"Name\": \"c1\",\n",
      "                \"EndpointID\": \"ef027703da6101a7b4e2fd21ec3c71c1de05b9af752ac057d02fe9a37c4347b5\",\n",
      "                \"MacAddress\": \"02:42:ac:11:00:02\",\n",
      "                \"IPv4Address\": \"172.17.0.2/16\",\n",
      "                \"IPv6Address\": \"\"\n",
      "            }\n",
      "        },\n",
      "        \"Options\": {\n",
      "            \"com.docker.network.bridge.default_bridge\": \"true\",\n",
      "            \"com.docker.network.bridge.enable_icc\": \"true\",\n",
      "            \"com.docker.network.bridge.enable_ip_masquerade\": \"true\",\n",
      "            \"com.docker.network.bridge.host_binding_ipv4\": \"0.0.0.0\",\n",
      "            \"com.docker.network.bridge.name\": \"docker0\",\n",
      "            \"com.docker.network.driver.mtu\": \"65535\"\n",
      "        },\n",
      "        \"Labels\": {}\n",
      "    }\n",
      "]\n"
     ]
    }
   ],
   "source": [
    "!docker network inspect bridge"
   ]
  },
  {
   "cell_type": "markdown",
   "id": "5e555fb0-ddca-4b2e-9e5d-e7493d15760e",
   "metadata": {},
   "source": [
    "Now let's create two more containers and attach them via `--network` option to the `sample-net` network we created earlier:"
   ]
  },
  {
   "cell_type": "code",
   "execution_count": 47,
   "id": "16fe1d60-c8b7-44f0-82cd-f1c8b2117c3d",
   "metadata": {},
   "outputs": [
    {
     "name": "stdout",
     "output_type": "stream",
     "text": [
      "9ab6bb78688d3a3a5c196acaf735e340f45e080f2391e520448971c134281ed7\n"
     ]
    }
   ],
   "source": [
    "!docker container run --name c3 -d --network sample-net alpine ping 127.0.0.1"
   ]
  },
  {
   "cell_type": "code",
   "execution_count": 48,
   "id": "3d5a2a3d-6268-46e8-92a6-410dcfa10b31",
   "metadata": {},
   "outputs": [
    {
     "name": "stdout",
     "output_type": "stream",
     "text": [
      "c6ec9db2b0799850f002968690908f3b7607183dd91f82cf18117b0343a3a1fd\n"
     ]
    }
   ],
   "source": [
    "!docker container run --name c4 -d --network sample-net alpine ping 127.0.0.1"
   ]
  },
  {
   "cell_type": "markdown",
   "id": "8ba91bd5-8239-4fea-9640-5218cc5e04ec",
   "metadata": {},
   "source": [
    "Check that hosts are mutually reachable via `docker container exec -it c3 /bin/sh` and try connecting to c4 (should work) and c1 (should fail)."
   ]
  },
  {
   "cell_type": "markdown",
   "id": "79320772-2db8-4901-952b-c0433484ce30",
   "metadata": {},
   "source": [
    "Networks can be deleted via `rm` as usual, or we can use `prune`:"
   ]
  },
  {
   "cell_type": "code",
   "execution_count": 68,
   "id": "8a52b38a-eeb1-4431-8aa9-a5c61640ffd9",
   "metadata": {},
   "outputs": [
    {
     "name": "stdout",
     "output_type": "stream",
     "text": [
      "Deleted Networks:\n",
      "sample-net\n",
      "\n"
     ]
    }
   ],
   "source": [
    "!docker network prune --force"
   ]
  },
  {
   "cell_type": "markdown",
   "id": "dbdc94aa-8f43-4637-b7b5-57cb820eab6d",
   "metadata": {},
   "source": [
    "`prune` can also be used for other object types:\n",
    "```\n",
    "docker container prune -f\n",
    "docker image prune -af\n",
    "docker system prune -f\n",
    "```"
   ]
  },
  {
   "cell_type": "markdown",
   "id": "e4bb6ec9-db10-441a-bfda-4b718267d7f3",
   "metadata": {},
   "source": [
    "Similarly to how we can run additional commands via `container exec`, we can connect currently running to more networks via\n",
    "```\n",
    "docker network connect <network> <container>\n",
    "```"
   ]
  },
  {
   "cell_type": "markdown",
   "id": "1479fbe7-8683-46b6-974e-bd42e88621cf",
   "metadata": {},
   "source": [
    "Another network type, `--network host` is used to run container connectecd to host's network. You can check it via\n",
    "```\n",
    "docker container run --rm -it --name test1 --network host alpine:latest /bin/sh\n",
    "```\n",
    "and `ip addr show eth0` inside."
   ]
  },
  {
   "cell_type": "markdown",
   "id": "bfe18609-6c6a-4f99-a386-996da30a921c",
   "metadata": {},
   "source": [
    "### Running containers in the same network namespace"
   ]
  },
  {
   "cell_type": "markdown",
   "id": "05ca5e5d-917c-42f0-9e55-ee54d7caae38",
   "metadata": {},
   "source": [
    "Container can be attached to the network sandbox of another container, so that they share same IP address:"
   ]
  },
  {
   "cell_type": "code",
   "execution_count": 71,
   "id": "9466a4b6-5b17-4427-b9c8-38a09b988dee",
   "metadata": {},
   "outputs": [
    {
     "name": "stdout",
     "output_type": "stream",
     "text": [
      "8f3a7cab15b47ca638554b88ed487982669555104a8538c353371c320bc2944c\n"
     ]
    }
   ],
   "source": [
    "!docker network create test-net"
   ]
  },
  {
   "cell_type": "code",
   "execution_count": 72,
   "id": "8de7de59-87a9-4de3-bdee-7f43cb840e6a",
   "metadata": {},
   "outputs": [
    {
     "name": "stdout",
     "output_type": "stream",
     "text": [
      "cb3c164cc9c444a109cad91fd7a54076946dbc08f66c2472e30e78b49486c826\n"
     ]
    }
   ],
   "source": [
    "!docker container run --name web -d --network test-net nginx:alpine"
   ]
  },
  {
   "cell_type": "markdown",
   "id": "f680ed7c-59ac-4663-9063-86720941c16a",
   "metadata": {},
   "source": [
    "And now use the `--network container:<name>` syntax to connect to the network sandbox of `web` container:\n",
    "```\n",
    "docker container run -it \\\n",
    "--network container:web \\\n",
    "alpine /bin/sh\n",
    "```\n",
    "and then `wget -qO - localhost` inside to verify they indeed share same address."
   ]
  },
  {
   "cell_type": "markdown",
   "id": "d793ab7c-aa8f-4636-9f64-c92c839f645d",
   "metadata": {},
   "source": [
    "### Port mapping"
   ]
  },
  {
   "cell_type": "markdown",
   "id": "8c06867b-67f5-48da-bae2-1f64cb7096db",
   "metadata": {},
   "source": [
    "Port mapping allows us to open specific ports inside the container to the outside world.\n",
    "\n",
    "`-P` parameter will automatically map ports:`docker container run --name web -P -d nginx:alpine`"
   ]
  },
  {
   "cell_type": "markdown",
   "id": "8fd53ff3-8c0c-4025-8989-9b29e1608dd5",
   "metadata": {},
   "source": [
    "`docker container port web` will show ports we just mapped:\n",
    "```\n",
    " docker container port web\n",
    "80/tcp -> 0.0.0.0:55000\n",
    "```"
   ]
  },
  {
   "cell_type": "markdown",
   "id": "319c608c-07eb-4ed2-88c8-8c4a5d1d8c85",
   "metadata": {},
   "source": [
    "We can map a specific port via the `-p` option:"
   ]
  },
  {
   "cell_type": "code",
   "execution_count": 16,
   "id": "ad78fdeb-c65c-4ce5-9dd6-08fe46207a9a",
   "metadata": {},
   "outputs": [
    {
     "name": "stdout",
     "output_type": "stream",
     "text": [
      "8f58fb31b2e7efe01e8d7c651279e29223e4acbfdc370f5c2ba80802959a8938\n"
     ]
    }
   ],
   "source": [
    "!docker container run --name web2 -p 8080:80 -d nginx:alpine"
   ]
  },
  {
   "cell_type": "markdown",
   "id": "36d303bc-7055-48a2-8525-7c95f79a5bba",
   "metadata": {},
   "source": [
    "## Docker Compose"
   ]
  },
  {
   "cell_type": "markdown",
   "id": "778f0b8b-7138-49c7-8b6c-7037b77505ed",
   "metadata": {},
   "source": [
    "With Docker Compose, applications consisting of several containers can be configured in one file.\n",
    "\n",
    "In a sense, Docker Compose allows one to declaratively specify which images and with which options (volumes/environments etc.) should run.\n",
    "\n",
    "While Dockerfile uses its own format, Docker Compose files are written in YAML (https://en.wikipedia.org/wiki/YAML).\n",
    "\n",
    "Consider a sample `docker-compose.yml`:\n",
    "\n",
    "```\n",
    "version: \"3.8\" \n",
    "services: \n",
    "  db:\n",
    "    image: postgres:alpine\n",
    "    environment:\n",
    "    - POSTGRES_USER=dockeruser\n",
    "    - POSTGRES_PASSWORD=dockerpass\n",
    "    - POSTGRES_DB=pets\n",
    "    volumes:\n",
    "    - pg-data:/var/lib/postgresql/data\n",
    "    - ./db:/docker-entrypoint-initdb.d\n",
    "  \n",
    "  pgadmin:\n",
    "    image: dpage/pgadmin4\n",
    "    ports:\n",
    "      - \"5050:80\"\n",
    "    environment:\n",
    "      PGADMIN_DEFAULT_EMAIL: admin@acme.com\n",
    "      PGADMIN_DEFAULT_PASSWORD: admin\n",
    "    volumes:\n",
    "      - pgadmin-data:/var/lib/pgadmin\n",
    "\n",
    "volumes: \n",
    "  pg-data:\n",
    "  pgadmin-data:\n",
    "```"
   ]
  },
  {
   "cell_type": "markdown",
   "id": "34c69e49-e9d0-49d1-9735-36f033ce8af3",
   "metadata": {},
   "source": [
    "This will run 2 containers: one for PostgreSQL, and another for pgAdmin. This file is located in the `pg` subdir.\n",
    "\n",
    "Inside that dir, run\n",
    "```\n",
    "docker compose up\n",
    "```\n",
    "to start the containers, press `Ctrl+C` to stop it, and\n",
    "```\n",
    "docker compose down\n",
    "```\n",
    "to cleanup."
   ]
  },
  {
   "cell_type": "markdown",
   "id": "1f8c2c14-6298-43d4-a9be-3e047682425a",
   "metadata": {},
   "source": [
    "We can also use a `build` entry to build custom images:\n",
    "```\n",
    "services:\n",
    "  web:\n",
    "    build: .\n",
    "    ports:\n",
    "      - \"8000:5000\"\n",
    "  redis:\n",
    "    image: \"redis:alpine\"\n",
    "```"
   ]
  },
  {
   "cell_type": "markdown",
   "id": "3088ced1-3fd7-4a69-a4d3-00b855e68ca0",
   "metadata": {},
   "source": [
    "In the above example, the `build: .` tells Docker Compose to use the Dockerfile in current directory (`.`), and for redis, use a stock image named `redis:alpine`, which it will download from hub.docker.com.\n",
    "\n",
    "Full example is in `redis` subdir.\n",
    "\n",
    "If you want to use a custom Dockerfile name, use this syntax instead:\n",
    "```\n",
    "build:\n",
    "  context: web\n",
    "  dockerfile: Dockerfile.dev\n",
    "```"
   ]
  },
  {
   "cell_type": "markdown",
   "id": "5d763daa-b2e0-4a08-a77a-c82ccd180ceb",
   "metadata": {},
   "source": [
    "`docker compose up`, with `-d` in order to run in detached mode.\n",
    "\n",
    "Note that Docker Compose prefixes all names with the name of the parent folder. This can be overridden with the `--project-name` option:\n",
    "```\n",
    "docker compose --project-name demo up\n",
    "```"
   ]
  }
 ],
 "metadata": {
  "kernelspec": {
   "display_name": "Python 3 (ipykernel)",
   "language": "python",
   "name": "python3"
  },
  "language_info": {
   "codemirror_mode": {
    "name": "ipython",
    "version": 3
   },
   "file_extension": ".py",
   "mimetype": "text/x-python",
   "name": "python",
   "nbconvert_exporter": "python",
   "pygments_lexer": "ipython3",
   "version": "3.13.8"
  }
 },
 "nbformat": 4,
 "nbformat_minor": 5
}
