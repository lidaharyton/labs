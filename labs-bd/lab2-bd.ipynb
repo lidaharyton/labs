{
 "cells": [
  {
   "cell_type": "code",
   "execution_count": 31,
   "id": "b7f616e0-2deb-49e4-ae4a-40c3b80885e1",
   "metadata": {},
   "outputs": [
    {
     "name": "stdout",
     "output_type": "stream",
     "text": [
      "The Cython extension is already loaded. To reload it, use:\n",
      "  %reload_ext Cython\n"
     ]
    }
   ],
   "source": [
    "%load_ext Cython"
   ]
  },
  {
   "cell_type": "code",
   "execution_count": 33,
   "id": "b103bcb1-dbf3-4277-b681-4b2ae62d58cc",
   "metadata": {},
   "outputs": [],
   "source": [
    "import numpy as np\n",
    "import pandas as pd\n",
    "from math import log, sqrt, exp, erf\n",
    "import numba\n",
    "import yfinance as yf\n",
    "import pandas as pd\n",
    "import numpy as np\n",
    "import datetime\n",
    "from datetime import timedelta\n",
    "from scipy.stats import norm"
   ]
  },
  {
   "cell_type": "code",
   "execution_count": 34,
   "id": "5f178c76-570d-4d2a-91db-fa66549f6411",
   "metadata": {},
   "outputs": [
    {
     "data": {
      "text/html": [
       "<div>\n",
       "<style scoped>\n",
       "    .dataframe tbody tr th:only-of-type {\n",
       "        vertical-align: middle;\n",
       "    }\n",
       "\n",
       "    .dataframe tbody tr th {\n",
       "        vertical-align: top;\n",
       "    }\n",
       "\n",
       "    .dataframe thead th {\n",
       "        text-align: right;\n",
       "    }\n",
       "</style>\n",
       "<table border=\"1\" class=\"dataframe\">\n",
       "  <thead>\n",
       "    <tr style=\"text-align: right;\">\n",
       "      <th></th>\n",
       "      <th>Unnamed: 0</th>\n",
       "      <th>country</th>\n",
       "      <th>description</th>\n",
       "      <th>designation</th>\n",
       "      <th>points</th>\n",
       "      <th>price</th>\n",
       "      <th>province</th>\n",
       "      <th>region_1</th>\n",
       "      <th>region_2</th>\n",
       "      <th>taster_name</th>\n",
       "      <th>taster_twitter_handle</th>\n",
       "      <th>title</th>\n",
       "      <th>variety</th>\n",
       "      <th>winery</th>\n",
       "    </tr>\n",
       "  </thead>\n",
       "  <tbody>\n",
       "    <tr>\n",
       "      <th>0</th>\n",
       "      <td>0</td>\n",
       "      <td>Italy</td>\n",
       "      <td>Aromas include tropical fruit, broom, brimston...</td>\n",
       "      <td>Vulkà Bianco</td>\n",
       "      <td>87</td>\n",
       "      <td>NaN</td>\n",
       "      <td>Sicily &amp; Sardinia</td>\n",
       "      <td>Etna</td>\n",
       "      <td>NaN</td>\n",
       "      <td>Kerin O’Keefe</td>\n",
       "      <td>@kerinokeefe</td>\n",
       "      <td>Nicosia 2013 Vulkà Bianco  (Etna)</td>\n",
       "      <td>White Blend</td>\n",
       "      <td>Nicosia</td>\n",
       "    </tr>\n",
       "    <tr>\n",
       "      <th>1</th>\n",
       "      <td>1</td>\n",
       "      <td>Portugal</td>\n",
       "      <td>This is ripe and fruity, a wine that is smooth...</td>\n",
       "      <td>Avidagos</td>\n",
       "      <td>87</td>\n",
       "      <td>15.0</td>\n",
       "      <td>Douro</td>\n",
       "      <td>NaN</td>\n",
       "      <td>NaN</td>\n",
       "      <td>Roger Voss</td>\n",
       "      <td>@vossroger</td>\n",
       "      <td>Quinta dos Avidagos 2011 Avidagos Red (Douro)</td>\n",
       "      <td>Portuguese Red</td>\n",
       "      <td>Quinta dos Avidagos</td>\n",
       "    </tr>\n",
       "    <tr>\n",
       "      <th>2</th>\n",
       "      <td>2</td>\n",
       "      <td>US</td>\n",
       "      <td>Tart and snappy, the flavors of lime flesh and...</td>\n",
       "      <td>NaN</td>\n",
       "      <td>87</td>\n",
       "      <td>14.0</td>\n",
       "      <td>Oregon</td>\n",
       "      <td>Willamette Valley</td>\n",
       "      <td>Willamette Valley</td>\n",
       "      <td>Paul Gregutt</td>\n",
       "      <td>@paulgwine</td>\n",
       "      <td>Rainstorm 2013 Pinot Gris (Willamette Valley)</td>\n",
       "      <td>Pinot Gris</td>\n",
       "      <td>Rainstorm</td>\n",
       "    </tr>\n",
       "    <tr>\n",
       "      <th>3</th>\n",
       "      <td>3</td>\n",
       "      <td>US</td>\n",
       "      <td>Pineapple rind, lemon pith and orange blossom ...</td>\n",
       "      <td>Reserve Late Harvest</td>\n",
       "      <td>87</td>\n",
       "      <td>13.0</td>\n",
       "      <td>Michigan</td>\n",
       "      <td>Lake Michigan Shore</td>\n",
       "      <td>NaN</td>\n",
       "      <td>Alexander Peartree</td>\n",
       "      <td>NaN</td>\n",
       "      <td>St. Julian 2013 Reserve Late Harvest Riesling ...</td>\n",
       "      <td>Riesling</td>\n",
       "      <td>St. Julian</td>\n",
       "    </tr>\n",
       "    <tr>\n",
       "      <th>4</th>\n",
       "      <td>4</td>\n",
       "      <td>US</td>\n",
       "      <td>Much like the regular bottling from 2012, this...</td>\n",
       "      <td>Vintner's Reserve Wild Child Block</td>\n",
       "      <td>87</td>\n",
       "      <td>65.0</td>\n",
       "      <td>Oregon</td>\n",
       "      <td>Willamette Valley</td>\n",
       "      <td>Willamette Valley</td>\n",
       "      <td>Paul Gregutt</td>\n",
       "      <td>@paulgwine</td>\n",
       "      <td>Sweet Cheeks 2012 Vintner's Reserve Wild Child...</td>\n",
       "      <td>Pinot Noir</td>\n",
       "      <td>Sweet Cheeks</td>\n",
       "    </tr>\n",
       "  </tbody>\n",
       "</table>\n",
       "</div>"
      ],
      "text/plain": [
       "   Unnamed: 0   country                                        description  \\\n",
       "0           0     Italy  Aromas include tropical fruit, broom, brimston...   \n",
       "1           1  Portugal  This is ripe and fruity, a wine that is smooth...   \n",
       "2           2        US  Tart and snappy, the flavors of lime flesh and...   \n",
       "3           3        US  Pineapple rind, lemon pith and orange blossom ...   \n",
       "4           4        US  Much like the regular bottling from 2012, this...   \n",
       "\n",
       "                          designation  points  price           province  \\\n",
       "0                        Vulkà Bianco      87    NaN  Sicily & Sardinia   \n",
       "1                            Avidagos      87   15.0              Douro   \n",
       "2                                 NaN      87   14.0             Oregon   \n",
       "3                Reserve Late Harvest      87   13.0           Michigan   \n",
       "4  Vintner's Reserve Wild Child Block      87   65.0             Oregon   \n",
       "\n",
       "              region_1           region_2         taster_name  \\\n",
       "0                 Etna                NaN       Kerin O’Keefe   \n",
       "1                  NaN                NaN          Roger Voss   \n",
       "2    Willamette Valley  Willamette Valley        Paul Gregutt   \n",
       "3  Lake Michigan Shore                NaN  Alexander Peartree   \n",
       "4    Willamette Valley  Willamette Valley        Paul Gregutt   \n",
       "\n",
       "  taster_twitter_handle                                              title  \\\n",
       "0          @kerinokeefe                  Nicosia 2013 Vulkà Bianco  (Etna)   \n",
       "1            @vossroger      Quinta dos Avidagos 2011 Avidagos Red (Douro)   \n",
       "2           @paulgwine       Rainstorm 2013 Pinot Gris (Willamette Valley)   \n",
       "3                   NaN  St. Julian 2013 Reserve Late Harvest Riesling ...   \n",
       "4           @paulgwine   Sweet Cheeks 2012 Vintner's Reserve Wild Child...   \n",
       "\n",
       "          variety               winery  \n",
       "0     White Blend              Nicosia  \n",
       "1  Portuguese Red  Quinta dos Avidagos  \n",
       "2      Pinot Gris            Rainstorm  \n",
       "3        Riesling           St. Julian  \n",
       "4      Pinot Noir         Sweet Cheeks  "
      ]
     },
     "execution_count": 34,
     "metadata": {},
     "output_type": "execute_result"
    }
   ],
   "source": [
    "df = pd.read_csv(\"winemag-data-130k-v2.csv\")\n",
    "df.head()"
   ]
  },
  {
   "cell_type": "code",
   "execution_count": 35,
   "id": "7ae86893-1811-453d-b72d-dd0c02fdb39d",
   "metadata": {},
   "outputs": [
    {
     "name": "stdout",
     "output_type": "stream",
     "text": [
      "25.8 ms ± 714 μs per loop (mean ± std. dev. of 7 runs, 10 loops each)\n"
     ]
    }
   ],
   "source": [
    "df[\"price\"] = df[\"price\"].fillna(df[\"price\"].mean())\n",
    "\n",
    "def points_per_dollar_py(points, price):\n",
    "    return points / price\n",
    "\n",
    "def compute_py(df):\n",
    "    return df.apply(lambda row: points_per_dollar_py(row[\"points\"], row[\"price\"]), axis=1)\n",
    "\n",
    "%timeit compute_py(df.head(10000))"
   ]
  },
  {
   "cell_type": "code",
   "execution_count": 36,
   "id": "f71b203b-de97-4f30-8c2c-fd88014bafdd",
   "metadata": {},
   "outputs": [],
   "source": [
    "%%cython\n",
    "import numpy as np\n",
    "cimport numpy as np\n",
    "cpdef double points_per_dollar_cy(double points, double price):\n",
    "    return points / price\n",
    "\n",
    "cpdef compute_cython(double[:] points, double[:] prices):\n",
    "    cdef Py_ssize_t n = points.shape[0]\n",
    "    cdef Py_ssize_t i\n",
    "    cdef double[:] result = np.empty(n, dtype=\"float64\")\n",
    "    for i in range(n):\n",
    "        result[i] = points_per_dollar_cy(points[i], prices[i])\n",
    "    return result"
   ]
  },
  {
   "cell_type": "code",
   "execution_count": 37,
   "id": "2e41927b-2df9-44ca-a48e-15e341d47266",
   "metadata": {},
   "outputs": [
    {
     "name": "stdout",
     "output_type": "stream",
     "text": [
      "10.6 μs ± 112 ns per loop (mean ± std. dev. of 7 runs, 100,000 loops each)\n"
     ]
    }
   ],
   "source": [
    "points_arr = df[\"points\"].to_numpy(dtype=\"float64\")\n",
    "price_arr = df[\"price\"].to_numpy(dtype=\"float64\")\n",
    "\n",
    "%timeit compute_cython(points_arr[:10000], price_arr[:10000])\n"
   ]
  },
  {
   "cell_type": "code",
   "execution_count": 38,
   "id": "188fddaf-3d97-4f92-ac12-45225ae10cdf",
   "metadata": {},
   "outputs": [
    {
     "name": "stdout",
     "output_type": "stream",
     "text": [
      "8.63 μs ± 2.26 μs per loop (mean ± std. dev. of 7 runs, 1 loop each)\n"
     ]
    }
   ],
   "source": [
    "@numba.jit(nopython=True)\n",
    "def compute_numba(points, prices):\n",
    "    n = len(points)\n",
    "    result = np.empty(n, dtype=np.float64)\n",
    "    for i in range(n):\n",
    "        result[i] = points[i] / prices[i]\n",
    "    return result\n",
    "\n",
    "%timeit compute_numba(points_arr[:10000], price_arr[:10000])\n"
   ]
  },
  {
   "cell_type": "markdown",
   "id": "4f104d08-de94-434f-8db2-fc89f60b9812",
   "metadata": {},
   "source": [
    "2"
   ]
  },
  {
   "cell_type": "code",
   "execution_count": 39,
   "id": "ea3c0fe1-dd8b-4849-a7ac-418e91c49d0b",
   "metadata": {},
   "outputs": [
    {
     "name": "stdout",
     "output_type": "stream",
     "text": [
      "/Users/lidaharyton/.cache/uv/builds-v0/.tmpIOi37w/bin/python: No module named pip\n",
      "Note: you may need to restart the kernel to use updated packages.\n"
     ]
    }
   ],
   "source": [
    "pip install yfinance"
   ]
  },
  {
   "cell_type": "code",
   "execution_count": 40,
   "id": "96e7a2b2-335b-466e-8f7b-c579dc57a8aa",
   "metadata": {},
   "outputs": [
    {
     "name": "stdout",
     "output_type": "stream",
     "text": [
      "Apple stock price: 255.4600067138672\n"
     ]
    }
   ],
   "source": [
    "apple = yf.Ticker(\"AAPL\")\n",
    "data = apple.history(period=\"1y\")\n",
    "\n",
    "S0 = data[\"Close\"].iloc[-1]\n",
    "print(\"Apple stock price:\", S0)"
   ]
  },
  {
   "cell_type": "code",
   "execution_count": 52,
   "id": "ce646b1e-df7f-45b3-8711-93d0fb654121",
   "metadata": {},
   "outputs": [
    {
     "name": "stdout",
     "output_type": "stream",
     "text": [
      "Params: K=260.0, T=0.0821917808219178, r=0.05, sigma=0.24\n"
     ]
    }
   ],
   "source": [
    "S0 = 255.46    # ціна акції Apple\n",
    "K = 260.0      # страйк\n",
    "T = 30/365     # 30 днів до експірації\n",
    "r = 0.05       # річна безризикова ставка\n",
    "sigma = 0.229   # імпліцитна волатильність ~24%\n",
    "\n",
    "print(f\"Params: K={K}, T={T}, r={r}, sigma={sigma}\")"
   ]
  },
  {
   "cell_type": "code",
   "execution_count": 42,
   "id": "076dabbc-1863-4a51-ba89-bef339830cca",
   "metadata": {},
   "outputs": [],
   "source": [
    "def black_scholes_py(S0, K, T, r, sigma, option=\"call\"):\n",
    "    d1 = (np.log(S0 / K) + (r + 0.5 * sigma**2) * T) / (sigma * np.sqrt(T))\n",
    "    d2 = d1 - sigma * np.sqrt(T)\n",
    "    if option == \"call\":\n",
    "        return S0 * norm.cdf(d1) - K * np.exp(-r * T) * norm.cdf(d2)\n",
    "    else:\n",
    "        return K * np.exp(-r * T) * norm.cdf(-d2) - S0 * norm.cdf(-d1)"
   ]
  },
  {
   "cell_type": "code",
   "execution_count": 43,
   "id": "b2c97bdb-d014-4d10-8c55-63d150b8e355",
   "metadata": {},
   "outputs": [],
   "source": [
    "%%cython\n",
    "import numpy as np\n",
    "cimport numpy as np\n",
    "from libc.math cimport log, sqrt, exp\n",
    "from scipy.stats import norm\n",
    "\n",
    "cpdef double black_scholes_cy(double S0, double K, double T, double r, double sigma, option=\"call\"):\n",
    "    cdef double d1, d2\n",
    "    d1 = (log(S0 / K) + (r + 0.5 * sigma * sigma) * T) / (sigma * sqrt(T))\n",
    "    d2 = d1 - sigma * sqrt(T)\n",
    "    if option == \"call\":\n",
    "        return S0 * norm.cdf(d1) - K * exp(-r * T) * norm.cdf(d2)\n",
    "    else:\n",
    "        return K * exp(-r * T) * norm.cdf(-d2) - S0 * norm.cdf(-d1)\n"
   ]
  },
  {
   "cell_type": "code",
   "execution_count": 44,
   "id": "aba198ad-6af3-4cdd-990c-07ed3e3575c3",
   "metadata": {},
   "outputs": [],
   "source": [
    "@numba.jit(nopython=True)\n",
    "def norm_cdf(x):\n",
    "    return 0.5 * (1.0 + erf(x / sqrt(2.0)))\n",
    "\n",
    "@numba.jit(nopython=True)\n",
    "def black_scholes_numba(S0, K, T, r, sigma, call=True):\n",
    "    d1 = (log(S0 / K) + (r + 0.5 * sigma**2) * T) / (sigma * sqrt(T))\n",
    "    d2 = d1 - sigma * sqrt(T)\n",
    "    if call:\n",
    "        return S0 * norm_cdf(d1) - K * exp(-r * T) * norm_cdf(d2)\n",
    "    else:\n",
    "        return K * exp(-r * T) * norm_cdf(-d2) - S0 * norm_cdf(-d1)"
   ]
  },
  {
   "cell_type": "code",
   "execution_count": 45,
   "id": "8c054723-32d0-49e0-b29d-de1637b14eab",
   "metadata": {},
   "outputs": [
    {
     "name": "stdout",
     "output_type": "stream",
     "text": [
      "38.2 μs ± 981 ns per loop (mean ± std. dev. of 7 runs, 10,000 loops each)\n",
      "37.3 μs ± 1.53 μs per loop (mean ± std. dev. of 7 runs, 10,000 loops each)\n",
      "171 ns ± 5.91 ns per loop (mean ± std. dev. of 7 runs, 10,000,000 loops each)\n"
     ]
    }
   ],
   "source": [
    "%timeit black_scholes_py(S0, K, T, r, sigma)\n",
    "%timeit black_scholes_cy(S0, K, T, r, sigma)\n",
    "%timeit black_scholes_numba(S0, K, T, r, sigma)"
   ]
  },
  {
   "cell_type": "code",
   "execution_count": null,
   "id": "e3a680f3-04a4-4252-8045-6717045040d2",
   "metadata": {},
   "outputs": [],
   "source": []
  }
 ],
 "metadata": {
  "kernelspec": {
   "display_name": "Python 3 (ipykernel)",
   "language": "python",
   "name": "python3"
  },
  "language_info": {
   "codemirror_mode": {
    "name": "ipython",
    "version": 3
   },
   "file_extension": ".py",
   "mimetype": "text/x-python",
   "name": "python",
   "nbconvert_exporter": "python",
   "pygments_lexer": "ipython3",
   "version": "3.11.13"
  }
 },
 "nbformat": 4,
 "nbformat_minor": 5
}
