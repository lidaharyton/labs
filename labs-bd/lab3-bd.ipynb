{
 "cells": [
  {
   "cell_type": "code",
   "execution_count": 1,
   "id": "425746a2-979b-43d6-bdce-ddbf37182aac",
   "metadata": {},
   "outputs": [],
   "source": [
    "from functools import reduce\n",
    "import pandas as pd\n",
    "import csv"
   ]
  },
  {
   "cell_type": "markdown",
   "id": "424c27f0-a161-458b-a5f3-ac7deb081754",
   "metadata": {},
   "source": [
    "1. Implement versions of map, filter, and compose using reduce."
   ]
  },
  {
   "cell_type": "code",
   "execution_count": 2,
   "id": "81c094ed-80d5-40f4-ba26-3813bc90654a",
   "metadata": {},
   "outputs": [],
   "source": [
    "def red_map(func, iterable):\n",
    "    return reduce(lambda acc, x: acc + [func(x)], iterable, [])"
   ]
  },
  {
   "cell_type": "code",
   "execution_count": 3,
   "id": "821d9bf2-6b1e-49da-af01-a2266d52456e",
   "metadata": {},
   "outputs": [],
   "source": [
    "def red_filter(predicate, iterable):\n",
    "    return reduce(lambda acc, x: acc + [x] if predicate(x) else acc, iterable, [])"
   ]
  },
  {
   "cell_type": "code",
   "execution_count": 4,
   "id": "97cedd9d-f5c1-4544-ad3e-c5894bfc417f",
   "metadata": {},
   "outputs": [],
   "source": [
    "def red_compose(*funcs):\n",
    "    return reduce(lambda f, g: lambda x: f(g(x)), funcs)"
   ]
  },
  {
   "cell_type": "code",
   "execution_count": 5,
   "id": "46de7326-3604-4aee-9525-035bc5d08a53",
   "metadata": {},
   "outputs": [
    {
     "name": "stdout",
     "output_type": "stream",
     "text": [
      "red_map: [2, 4, 6, 8, 10]\n",
      "red_filter: [2, 4]\n",
      "red_compose: [12, 14, 16, 18, 20]\n"
     ]
    }
   ],
   "source": [
    "nums = [1, 2, 3, 4, 5]\n",
    "\n",
    "print(\"red_map:\", red_map(lambda x: x * 2, nums))\n",
    "print(\"red_filter:\", red_filter(lambda x: x % 2 == 0, nums))\n",
    "\n",
    "f = red_compose(lambda x: x + 10, lambda x: x * 2)\n",
    "print(\"red_compose:\", [f(x) for x in nums])"
   ]
  },
  {
   "cell_type": "markdown",
   "id": "c523d8fb-5b19-4874-90fc-f90a11a79349",
   "metadata": {},
   "source": [
    "2. Using a csv file you’ve downloaded in lab1, create a generator that will yield first 3 columns of the file. And use this generator to create a Pandas.DataFrame. Hint: use https://docs.python.org/3/library/csv.html"
   ]
  },
  {
   "cell_type": "code",
   "execution_count": 6,
   "id": "aea4cc34-fa9a-4fe5-9cb0-b178c19da12e",
   "metadata": {},
   "outputs": [],
   "source": [
    "def wine_generator(path):\n",
    "    with open(path, newline='', encoding='utf-8') as f:\n",
    "        reader = csv.reader(f)\n",
    "        header = next(reader)\n",
    "        for row in reader:\n",
    "            yield row[:3]"
   ]
  },
  {
   "cell_type": "code",
   "execution_count": 7,
   "id": "bacc7c86-465e-451e-8b60-39320da96969",
   "metadata": {},
   "outputs": [
    {
     "name": "stdout",
     "output_type": "stream",
     "text": [
      "DataFrame (перші рядки):\n",
      "  Unnamed: 0   country                                        description\n",
      "0          0     Italy  Aromas include tropical fruit, broom, brimston...\n",
      "1          1  Portugal  This is ripe and fruity, a wine that is smooth...\n",
      "2          2        US  Tart and snappy, the flavors of lime flesh and...\n",
      "3          3        US  Pineapple rind, lemon pith and orange blossom ...\n",
      "4          4        US  Much like the regular bottling from 2012, this...\n"
     ]
    }
   ],
   "source": [
    "df_gen = pd.DataFrame(wine_generator(\"winemag-data-130k-v2.csv\"),\n",
    "                      columns=[\"Unnamed: 0\", \"country\", \"description\"])\n",
    "print(\"DataFrame (перші рядки):\")\n",
    "print(df_gen.head())"
   ]
  },
  {
   "cell_type": "markdown",
   "id": "2b4c4097-97bc-4af2-bebf-9fac23971963",
   "metadata": {},
   "source": [
    "3. Read the Pathway tutorial for web scraping (https://pathway.com/developers/user-guide/connect/python-web-scraping/#simple-web-scraping-with-python) that uses Python Generators. Run it locally with Docker."
   ]
  },
  {
   "cell_type": "code",
   "execution_count": null,
   "id": "5172ed9f-7569-455e-a7a4-236c37d9cfb9",
   "metadata": {},
   "outputs": [],
   "source": []
  },
  {
   "cell_type": "code",
   "execution_count": null,
   "id": "7b83deab-6f45-4711-ab24-c15501a4d4e6",
   "metadata": {},
   "outputs": [],
   "source": []
  }
 ],
 "metadata": {
  "kernelspec": {
   "display_name": "Python 3 (ipykernel)",
   "language": "python",
   "name": "python3"
  },
  "language_info": {
   "codemirror_mode": {
    "name": "ipython",
    "version": 3
   },
   "file_extension": ".py",
   "mimetype": "text/x-python",
   "name": "python",
   "nbconvert_exporter": "python",
   "pygments_lexer": "ipython3",
   "version": "3.11.5"
  }
 },
 "nbformat": 4,
 "nbformat_minor": 5
}
